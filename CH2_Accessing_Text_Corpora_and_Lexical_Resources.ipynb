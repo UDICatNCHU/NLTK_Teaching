{
  "cells": [
    {
      "cell_type": "markdown",
      "metadata": {
        "collapsed": true
      },
      "source": [
        "# 2. Accessing Text Corpora and Lexical Resources"
      ]
    },
    {
      "cell_type": "markdown",
      "metadata": {},
      "source": [
        "## Part 1 Accessing Text Corpora"
      ]
    },
    {
      "cell_type": "markdown",
      "metadata": {},
      "source": [
        "## 1.1 Gutenberg Corpus\n",
        "### nltk包括Gutenberg電子文件存檔中的一小部分，其中包含約25,000本免費電子書，託管於http://www.gutenberg.org/ 。我們首先import nltk，然後查看Gutenberg文集裡有多少文件"
      ]
    },
    {
      "cell_type": "code",
      "execution_count": 3,
      "metadata": {},
      "outputs": [
        {
          "data": {
            "text/plain": [
              "['austen-emma.txt',\n",
              " 'austen-persuasion.txt',\n",
              " 'austen-sense.txt',\n",
              " 'bible-kjv.txt',\n",
              " 'blake-poems.txt',\n",
              " 'bryant-stories.txt',\n",
              " 'burgess-busterbrown.txt',\n",
              " 'carroll-alice.txt',\n",
              " 'chesterton-ball.txt',\n",
              " 'chesterton-brown.txt',\n",
              " 'chesterton-thursday.txt',\n",
              " 'edgeworth-parents.txt',\n",
              " 'melville-moby_dick.txt',\n",
              " 'milton-paradise.txt',\n",
              " 'shakespeare-caesar.txt',\n",
              " 'shakespeare-hamlet.txt',\n",
              " 'shakespeare-macbeth.txt',\n",
              " 'whitman-leaves.txt']"
            ]
          },
          "execution_count": 3,
          "metadata": {},
          "output_type": "execute_result"
        }
      ],
      "source": [
        "import nltk\n",
        "nltk.corpus.gutenberg.fileids()"
      ]
    },
    {
      "cell_type": "markdown",
      "metadata": {},
      "source": [
        "### 選擇第一個文件並查看其中有多少文字"
      ]
    },
    {
      "cell_type": "code",
      "execution_count": 112,
      "metadata": {},
      "outputs": [
        {
          "data": {
            "text/plain": [
              "192427"
            ]
          },
          "execution_count": 112,
          "metadata": {},
          "output_type": "execute_result"
        }
      ],
      "source": [
        "emma = nltk.corpus.gutenberg.words('austen-emma.txt')\n",
        "len(emma)"
      ]
    },
    {
      "cell_type": "markdown",
      "metadata": {},
      "source": [
        "### 在第一章我們使用 text1.concordance() 來搜尋 text1 中的文字，現在假設我們要搜尋 nltk.corpus 中的文字必須使用下列語法來進行"
      ]
    },
    {
      "cell_type": "code",
      "execution_count": 111,
      "metadata": {},
      "outputs": [
        {
          "name": "stdout",
          "output_type": "stream",
          "text": [
            "Displaying 25 of 37 matches:\n",
            "er father , was sometimes taken by surprize at his being still able to pity ` \n",
            "hem do the other any good .\" \" You surprize me ! Emma must do Harriet good : a\n",
            "Knightley actually looked red with surprize and displeasure , as he stood up ,\n",
            "r . Elton , and found to his great surprize , that Mr . Elton was actually on \n",
            "d aid .\" Emma saw Mrs . Weston ' s surprize , and felt that it must be great ,\n",
            "father was quite taken up with the surprize of so sudden a journey , and his f\n",
            "y , in all the favouring warmth of surprize and conjecture . She was , moreove\n",
            "he appeared , to have her share of surprize , introduction , and pleasure . Th\n",
            "ir plans ; and it was an agreeable surprize to her , therefore , to perceive t\n",
            "talking aunt had taken me quite by surprize , it must have been the death of m\n",
            "f all the dialogue which ensued of surprize , and inquiry , and congratulation\n",
            " the present . They might chuse to surprize her .\" Mrs . Cole had many to agre\n",
            "the mode of it , the mystery , the surprize , is more like a young woman ' s s\n",
            " to her song took her agreeably by surprize -- a second , slightly but correct\n",
            "\" \" Oh ! no -- there is nothing to surprize one at all .-- A pretty fortune ; \n",
            "t to be considered . Emma ' s only surprize was that Jane Fairfax should accep\n",
            "of your admiration may take you by surprize some day or other .\" Mr . Knightle\n",
            "ation for her will ever take me by surprize .-- I never had a thought of her i\n",
            " expected by the best judges , for surprize -- but there was great joy . Mr . \n",
            " sound of at first , without great surprize . \" So unreasonably early !\" she w\n",
            "d Frank Churchill , with a look of surprize and displeasure .-- \" That is easy\n",
            "; and Emma could imagine with what surprize and mortification she must be retu\n",
            "tled that Jane should go . Quite a surprize to me ! I had not the least idea !\n",
            " . It is impossible to express our surprize . He came to speak to his father o\n",
            "g engaged !\" Emma even jumped with surprize ;-- and , horror - struck , exclai\n"
          ]
        }
      ],
      "source": [
        "emma = nltk.Text(nltk.corpus.gutenberg.words('austen-emma.txt'))\n",
        "emma.concordance(\"surprize\")"
      ]
    },
    {
      "cell_type": "markdown",
      "metadata": {},
      "source": [
        "#### 當我們要使用 austen-emma.txt 這個文件時我們可以只有import gutenberg 這個文集，使程式碼更精簡"
      ]
    },
    {
      "cell_type": "code",
      "execution_count": 110,
      "metadata": {},
      "outputs": [
        {
          "data": {
            "text/plain": [
              "['austen-emma.txt',\n",
              " 'austen-persuasion.txt',\n",
              " 'austen-sense.txt',\n",
              " 'bible-kjv.txt',\n",
              " 'blake-poems.txt',\n",
              " 'bryant-stories.txt',\n",
              " 'burgess-busterbrown.txt',\n",
              " 'carroll-alice.txt',\n",
              " 'chesterton-ball.txt',\n",
              " 'chesterton-brown.txt',\n",
              " 'chesterton-thursday.txt',\n",
              " 'edgeworth-parents.txt',\n",
              " 'melville-moby_dick.txt',\n",
              " 'milton-paradise.txt',\n",
              " 'shakespeare-caesar.txt',\n",
              " 'shakespeare-hamlet.txt',\n",
              " 'shakespeare-macbeth.txt',\n",
              " 'whitman-leaves.txt']"
            ]
          },
          "execution_count": 110,
          "metadata": {},
          "output_type": "execute_result"
        }
      ],
      "source": [
        "from nltk.corpus import gutenberg\n",
        "gutenberg.fileids()"
      ]
    },
    {
      "cell_type": "code",
      "execution_count": 109,
      "metadata": {},
      "outputs": [
        {
          "data": {
            "text/plain": [
              "192427"
            ]
          },
          "execution_count": 109,
          "metadata": {},
          "output_type": "execute_result"
        }
      ],
      "source": [
        "emma = gutenberg.words('austen-emma.txt')\n",
        "len(emma)"
      ]
    },
    {
      "cell_type": "markdown",
      "metadata": {},
      "source": [
        "### 運用下列語法來統計文件裡的文字數據"
      ]
    },
    {
      "cell_type": "code",
      "execution_count": 25,
      "metadata": {},
      "outputs": [
        {
          "name": "stdout",
          "output_type": "stream",
          "text": [
            "文件裡的字元長度(包括空白字元): 887071\n",
            "文件裡的文字總數: 192427\n",
            "文件裡的句子總數: 7752\n",
            "文件裡的單字量: 7344\n"
          ]
        }
      ],
      "source": [
        "num_chars = len(gutenberg.raw('austen-emma.txt'))\n",
        "num_words = len(gutenberg.words('austen-emma.txt'))\n",
        "num_sents = len(gutenberg.sents('austen-emma.txt'))\n",
        "num_vocab = len(set(w.lower() for w in gutenberg.words('austen-emma.txt')))\n",
        "print(\"文件裡的字元長度(包括空白字元): \", end='')\n",
        "print(num_chars)\n",
        "print(\"文件裡的文字總數: \", end='')\n",
        "print(num_words)\n",
        "print(\"文件裡的句子總數: \", end='')\n",
        "print(num_sents)\n",
        "print(\"文件裡的單字量: \", end='')\n",
        "print(num_vocab)"
      ]
    },
    {
      "cell_type": "markdown",
      "metadata": {},
      "source": [
        "### 使用for迴圈計算出每個文件的平均單字長度、平均句子長度、每個單字平均在文本中出現的次數"
      ]
    },
    {
      "cell_type": "code",
      "execution_count": 28,
      "metadata": {},
      "outputs": [
        {
          "name": "stdout",
          "output_type": "stream",
          "text": [
            "5 25 26 austen-emma.txt\n",
            "5 26 17 austen-persuasion.txt\n",
            "5 28 22 austen-sense.txt\n",
            "4 34 79 bible-kjv.txt\n",
            "5 19 5 blake-poems.txt\n",
            "4 19 14 bryant-stories.txt\n",
            "4 18 12 burgess-busterbrown.txt\n",
            "4 20 13 carroll-alice.txt\n",
            "5 20 12 chesterton-ball.txt\n",
            "5 23 11 chesterton-brown.txt\n",
            "5 18 11 chesterton-thursday.txt\n",
            "4 21 25 edgeworth-parents.txt\n",
            "5 26 15 melville-moby_dick.txt\n",
            "5 52 11 milton-paradise.txt\n",
            "4 12 9 shakespeare-caesar.txt\n",
            "4 12 8 shakespeare-hamlet.txt\n",
            "4 12 7 shakespeare-macbeth.txt\n",
            "5 36 12 whitman-leaves.txt\n"
          ]
        }
      ],
      "source": [
        "for fileid in gutenberg.fileids():\n",
        "    num_chars = len(gutenberg.raw(fileid))\n",
        "    num_words = len(gutenberg.words(fileid))\n",
        "    num_sents = len(gutenberg.sents(fileid))\n",
        "    num_vocab = len(set(w.lower() for w in gutenberg.words(fileid)))\n",
        "    print(round(num_chars / num_words),round(num_words / num_sents),round(num_words / num_vocab),fileid)"
      ]
    },
    {
      "cell_type": "markdown",
      "metadata": {},
      "source": [
        "### 上列顯示結果平均單字長度約為 4 ( 因為raw()函式會包含空白字元所以必須 -1 )\n",
        "### 其中sents()函式是列示出有多少句子並將每個句子中的每個單字分隔出來"
      ]
    },
    {
      "cell_type": "code",
      "execution_count": 108,
      "metadata": {},
      "outputs": [
        {
          "data": {
            "text/plain": [
              "[['[', 'The', 'Tragedie', 'of', 'Macbeth', 'by', 'William', 'Shakespeare', '1603', ']'], ['Actus', 'Primus', '.'], ...]"
            ]
          },
          "execution_count": 108,
          "metadata": {},
          "output_type": "execute_result"
        }
      ],
      "source": [
        "macbeth_sentences = gutenberg.sents('shakespeare-macbeth.txt')\n",
        "macbeth_sentences"
      ]
    },
    {
      "cell_type": "code",
      "execution_count": 40,
      "metadata": {},
      "outputs": [
        {
          "data": {
            "text/plain": [
              "['[',\n",
              " 'The',\n",
              " 'Tragedie',\n",
              " 'of',\n",
              " 'Macbeth',\n",
              " 'by',\n",
              " 'William',\n",
              " 'Shakespeare',\n",
              " '1603',\n",
              " ']']"
            ]
          },
          "execution_count": 40,
          "metadata": {},
          "output_type": "execute_result"
        }
      ],
      "source": [
        "macbeth_sentences[0]"
      ]
    },
    {
      "cell_type": "markdown",
      "metadata": {},
      "source": [
        "### 找出文件中最長的句子"
      ]
    },
    {
      "cell_type": "code",
      "execution_count": 57,
      "metadata": {},
      "outputs": [
        {
          "name": "stdout",
          "output_type": "stream",
          "text": [
            "158\n"
          ]
        }
      ],
      "source": [
        "longest_len = max(len(s) for s in macbeth_sentences)\n",
        "print(longest_len)"
      ]
    },
    {
      "cell_type": "code",
      "execution_count": 56,
      "metadata": {
        "scrolled": false
      },
      "outputs": [
        {
          "data": {
            "text/plain": [
              "[['Doubtfull',\n",
              "  'it',\n",
              "  'stood',\n",
              "  ',',\n",
              "  'As',\n",
              "  'two',\n",
              "  'spent',\n",
              "  'Swimmers',\n",
              "  ',',\n",
              "  'that',\n",
              "  'doe',\n",
              "  'cling',\n",
              "  'together',\n",
              "  ',',\n",
              "  'And',\n",
              "  'choake',\n",
              "  'their',\n",
              "  'Art',\n",
              "  ':',\n",
              "  'The',\n",
              "  'mercilesse',\n",
              "  'Macdonwald',\n",
              "  '(',\n",
              "  'Worthie',\n",
              "  'to',\n",
              "  'be',\n",
              "  'a',\n",
              "  'Rebell',\n",
              "  ',',\n",
              "  'for',\n",
              "  'to',\n",
              "  'that',\n",
              "  'The',\n",
              "  'multiplying',\n",
              "  'Villanies',\n",
              "  'of',\n",
              "  'Nature',\n",
              "  'Doe',\n",
              "  'swarme',\n",
              "  'vpon',\n",
              "  'him',\n",
              "  ')',\n",
              "  'from',\n",
              "  'the',\n",
              "  'Westerne',\n",
              "  'Isles',\n",
              "  'Of',\n",
              "  'Kernes',\n",
              "  'and',\n",
              "  'Gallowgrosses',\n",
              "  'is',\n",
              "  'supply',\n",
              "  \"'\",\n",
              "  'd',\n",
              "  ',',\n",
              "  'And',\n",
              "  'Fortune',\n",
              "  'on',\n",
              "  'his',\n",
              "  'damned',\n",
              "  'Quarry',\n",
              "  'smiling',\n",
              "  ',',\n",
              "  'Shew',\n",
              "  \"'\",\n",
              "  'd',\n",
              "  'like',\n",
              "  'a',\n",
              "  'Rebells',\n",
              "  'Whore',\n",
              "  ':',\n",
              "  'but',\n",
              "  'all',\n",
              "  \"'\",\n",
              "  's',\n",
              "  'too',\n",
              "  'weake',\n",
              "  ':',\n",
              "  'For',\n",
              "  'braue',\n",
              "  'Macbeth',\n",
              "  '(',\n",
              "  'well',\n",
              "  'hee',\n",
              "  'deserues',\n",
              "  'that',\n",
              "  'Name',\n",
              "  ')',\n",
              "  'Disdayning',\n",
              "  'Fortune',\n",
              "  ',',\n",
              "  'with',\n",
              "  'his',\n",
              "  'brandisht',\n",
              "  'Steele',\n",
              "  ',',\n",
              "  'Which',\n",
              "  'smoak',\n",
              "  \"'\",\n",
              "  'd',\n",
              "  'with',\n",
              "  'bloody',\n",
              "  'execution',\n",
              "  '(',\n",
              "  'Like',\n",
              "  'Valours',\n",
              "  'Minion',\n",
              "  ')',\n",
              "  'caru',\n",
              "  \"'\",\n",
              "  'd',\n",
              "  'out',\n",
              "  'his',\n",
              "  'passage',\n",
              "  ',',\n",
              "  'Till',\n",
              "  'hee',\n",
              "  'fac',\n",
              "  \"'\",\n",
              "  'd',\n",
              "  'the',\n",
              "  'Slaue',\n",
              "  ':',\n",
              "  'Which',\n",
              "  'neu',\n",
              "  \"'\",\n",
              "  'r',\n",
              "  'shooke',\n",
              "  'hands',\n",
              "  ',',\n",
              "  'nor',\n",
              "  'bad',\n",
              "  'farwell',\n",
              "  'to',\n",
              "  'him',\n",
              "  ',',\n",
              "  'Till',\n",
              "  'he',\n",
              "  'vnseam',\n",
              "  \"'\",\n",
              "  'd',\n",
              "  'him',\n",
              "  'from',\n",
              "  'the',\n",
              "  'Naue',\n",
              "  'toth',\n",
              "  \"'\",\n",
              "  'Chops',\n",
              "  ',',\n",
              "  'And',\n",
              "  'fix',\n",
              "  \"'\",\n",
              "  'd',\n",
              "  'his',\n",
              "  'Head',\n",
              "  'vpon',\n",
              "  'our',\n",
              "  'Battlements']]"
            ]
          },
          "execution_count": 56,
          "metadata": {},
          "output_type": "execute_result"
        }
      ],
      "source": [
        "[s for s in macbeth_sentences if len(s) == longest_len ]"
      ]
    },
    {
      "cell_type": "markdown",
      "metadata": {},
      "source": [
        "## 1.2   Web and Chat Text\n",
        "###  Gutenberg Corpus雖然包括了成千上萬本書，但它們都是文獻資料，考慮不太正式的語言也很重要，nltk中的webtext包括了Firefox討論論壇的內容、Overheard In New York 的評論、個人廣告等等"
      ]
    },
    {
      "cell_type": "code",
      "execution_count": 107,
      "metadata": {},
      "outputs": [
        {
          "name": "stdout",
          "output_type": "stream",
          "text": [
            "firefox.txt Cookie Manager: \"Don't allow sites that set removed cookies to se ...\n",
            "grail.txt SCENE 1: [wind] [clop clop clop] \n",
            "KING ARTHUR: Whoa there!  [clop ...\n",
            "overheard.txt White guy: So, do you have any plans for this evening?\n",
            "Asian girl ...\n",
            "pirates.txt PIRATES OF THE CARRIBEAN: DEAD MAN'S CHEST, by Ted Elliott & Terr ...\n",
            "singles.txt 25 SEXY MALE, seeks attrac older single lady, for discreet encoun ...\n",
            "wine.txt Lovely delicate, fragrant Rhone wine. Polished leather and strawb ...\n"
          ]
        }
      ],
      "source": [
        "from nltk.corpus import webtext\n",
        "for fileid in webtext.fileids():\n",
        "    print(fileid,webtext.raw(fileid)[:65],'...')"
      ]
    },
    {
      "cell_type": "markdown",
      "metadata": {},
      "source": [
        "### 在即時聊天文集中，包括了超過10,000個訊息，聊天訊息被分類成15個文件，每個文件中又再以年齡做為分類( 10歲、20歲、30歲、40歲以及成人聊天室 )，其文件名稱包含日期、年齡層和訊息數量，例如: 10-19-20s_706posts.xml 意思指 2006/10/19從20歲的聊天室搜集的706個訊息"
      ]
    },
    {
      "cell_type": "code",
      "execution_count": 106,
      "metadata": {},
      "outputs": [
        {
          "data": {
            "text/plain": [
              "['now', 'im', 'left', 'with', 'this', 'gay', 'name']"
            ]
          },
          "execution_count": 106,
          "metadata": {},
          "output_type": "execute_result"
        }
      ],
      "source": [
        "from nltk.corpus import nps_chat\n",
        "chatroom = nps_chat.posts('10-19-20s_706posts.xml')\n",
        "chatroom[0]"
      ]
    },
    {
      "cell_type": "markdown",
      "metadata": {},
      "source": [
        "## 1.3   Brown Corpus"
      ]
    },
    {
      "cell_type": "markdown",
      "metadata": {},
      "source": [
        "### Brown Corpus是第一個百萬字英文電子文集，於1961年在布朗大學創立。其中包含500以上文件，每個文件依照來源分類，如新聞，社論等，完整的文件列表，請參見http://icame.uib.no/brown/bcm-los.html"
      ]
    },
    {
      "cell_type": "code",
      "execution_count": 71,
      "metadata": {
        "collapsed": true
      },
      "outputs": [],
      "source": [
        "from nltk.corpus import brown"
      ]
    },
    {
      "cell_type": "markdown",
      "metadata": {},
      "source": [
        "### 顯示類別"
      ]
    },
    {
      "cell_type": "code",
      "execution_count": 86,
      "metadata": {},
      "outputs": [
        {
          "data": {
            "text/plain": [
              "['adventure',\n",
              " 'belles_lettres',\n",
              " 'editorial',\n",
              " 'fiction',\n",
              " 'government',\n",
              " 'hobbies',\n",
              " 'humor',\n",
              " 'learned',\n",
              " 'lore',\n",
              " 'mystery',\n",
              " 'news',\n",
              " 'religion',\n",
              " 'reviews',\n",
              " 'romance',\n",
              " 'science_fiction']"
            ]
          },
          "execution_count": 86,
          "metadata": {},
          "output_type": "execute_result"
        }
      ],
      "source": [
        "brown.categories()"
      ]
    },
    {
      "cell_type": "markdown",
      "metadata": {},
      "source": [
        "### 使用類別搜尋文件，並列出文字"
      ]
    },
    {
      "cell_type": "code",
      "execution_count": 99,
      "metadata": {},
      "outputs": [
        {
          "data": {
            "text/plain": [
              "['Dan', 'Morgan', 'told', 'himself', 'he', 'would', ...]"
            ]
          },
          "execution_count": 99,
          "metadata": {},
          "output_type": "execute_result"
        }
      ],
      "source": [
        "brown.words(categories = 'adventure')"
      ]
    },
    {
      "cell_type": "markdown",
      "metadata": {},
      "source": [
        "### 使用文件ID搜尋文件，並列出文字"
      ]
    },
    {
      "cell_type": "code",
      "execution_count": 93,
      "metadata": {},
      "outputs": [
        {
          "data": {
            "text/plain": [
              "['Does', 'our', 'society', 'have', 'a', 'runaway', ',', ...]"
            ]
          },
          "execution_count": 93,
          "metadata": {},
          "output_type": "execute_result"
        }
      ],
      "source": [
        "brown.words(fileids=['cg22'])"
      ]
    },
    {
      "cell_type": "markdown",
      "metadata": {},
      "source": [
        "### 使用類別搜尋多個文件，並列出其中的句子"
      ]
    },
    {
      "cell_type": "code",
      "execution_count": 96,
      "metadata": {},
      "outputs": [
        {
          "data": {
            "text/plain": [
              "[['Assembly', 'session', 'brought', 'much', 'good'], ['The', 'General', 'Assembly', ',', 'which', 'adjourns', 'today', ',', 'has', 'performed', 'in', 'an', 'atmosphere', 'of', 'crisis', 'and', 'struggle', 'from', 'the', 'day', 'it', 'convened', '.'], ...]"
            ]
          },
          "execution_count": 96,
          "metadata": {},
          "output_type": "execute_result"
        }
      ],
      "source": [
        "brown.sents(categories = [ 'news','editorial','reviews' ])"
      ]
    },
    {
      "cell_type": "markdown",
      "metadata": {},
      "source": [
        "### 計算單字出現在文件中的次數"
      ]
    },
    {
      "cell_type": "code",
      "execution_count": 17,
      "metadata": {},
      "outputs": [
        {
          "name": "stdout",
          "output_type": "stream",
          "text": [
            "can: 94 could: 87 may: 93 might: 38 must: 53 will: 389 "
          ]
        }
      ],
      "source": [
        "from nltk.corpus import brown\n",
        "news_text = brown.words(categories='news')\n",
        "fdist = nltk.FreqDist(w.lower() for w in news_text)\n",
        "modals = ['can', 'could', 'may', 'might', 'must', 'will']\n",
        "for m in modals:\n",
        "    print(m + ':', fdist[m], end=' ')"
      ]
    },
    {
      "cell_type": "markdown",
      "metadata": {},
      "source": [
        "### 計算每個文件中單字出現的次數\n",
        "ConditionalFreqDist() 依照給的條件去計算次數\n",
        "\n",
        "tabulate() 製作成表格"
      ]
    },
    {
      "cell_type": "code",
      "execution_count": 128,
      "metadata": {},
      "outputs": [
        {
          "name": "stdout",
          "output_type": "stream",
          "text": [
            "                  can could   may might  must  will \n",
            "           news    93    86    66    38    50   389 \n",
            "       religion    82    59    78    12    54    71 \n",
            "        hobbies   268    58   131    22    83   264 \n",
            "science_fiction    16    49     4    12     8    16 \n",
            "        romance    74   193    11    51    45    43 \n",
            "          humor    16    30     8     8     9    13 \n"
          ]
        }
      ],
      "source": [
        "cfd = nltk.ConditionalFreqDist( (genre, word) \n",
        "                               for genre in brown.categories() \n",
        "                               for word in brown.words(categories=genre))\n",
        "genres = ['news', 'religion', 'hobbies', 'science_fiction', 'romance', 'humor']\n",
        "modals = ['can', 'could', 'may', 'might', 'must', 'will']\n",
        "cfd.tabulate(conditions = genres, samples = modals)"
      ]
    },
    {
      "cell_type": "markdown",
      "metadata": {},
      "source": [
        "### 從上面答案我們可以得知will在新聞類別中出現最多次，could則在浪漫類別出現最多次，這樣我們就可以反推出，如果文件will出現很多次就可能是新聞類別"
      ]
    },
    {
      "cell_type": "markdown",
      "metadata": {},
      "source": [
        "## 1.4   Reuters Corpus"
      ]
    },
    {
      "cell_type": "markdown",
      "metadata": {},
      "source": [
        "### Reuters Corpus共收錄了10,788份新聞文件，共130萬字，這些文件有90個類別，並分類成兩組 \"training\" 和  \"test\"，是為了訓練出可以自動偵測文件的演算法"
      ]
    },
    {
      "cell_type": "code",
      "execution_count": null,
      "metadata": {
        "collapsed": true
      },
      "outputs": [],
      "source": [
        "from nltk.corpus import reuters\n",
        "reuters.fileids()"
      ]
    },
    {
      "cell_type": "markdown",
      "metadata": {},
      "source": [
        "['test/14826',\n",
        " 'test/14828',\n",
        " 'test/14829',\n",
        " 'test/14832',\n",
        " 'test/14833',\n",
        " 'test/14839',\n",
        " 'test/14840',\n",
        " 'test/14841',\n",
        " 'test/14842',\n",
        " 'test/14843',\n",
        " 'test/14844',\n",
        " 'test/14849',\n",
        " 'test/14852',\n",
        " 'test/14854',\n",
        " 'test/14858',\n",
        " 'test/14859',\n",
        " 'test/14860',\n",
        " ....]"
      ]
    },
    {
      "cell_type": "markdown",
      "metadata": {},
      "source": [
        "### 顯示類別"
      ]
    },
    {
      "cell_type": "code",
      "execution_count": null,
      "metadata": {
        "collapsed": true
      },
      "outputs": [],
      "source": [
        "reuters.categories()"
      ]
    },
    {
      "cell_type": "markdown",
      "metadata": {},
      "source": [
        "['acq',\n",
        " 'alum',\n",
        " 'barley',\n",
        " 'bop',\n",
        " 'carcass',\n",
        " 'castor-oil',\n",
        " 'cocoa',\n",
        " 'coconut',\n",
        " 'coconut-oil',\n",
        " 'coffee',\n",
        " 'copper',\n",
        " 'copra-cake',\n",
        " 'corn',\n",
        " 'cotton',\n",
        " 'cotton-oil',\n",
        " 'cpi',\n",
        " 'cpu',\n",
        " 'crude',\n",
        " 'dfl',\n",
        " 'dlr',\n",
        " 'dmk',\n",
        " 'earn',\n",
        " 'fuel',\n",
        " 'gas',\n",
        " 'gnp',\n",
        " 'gold',\n",
        " 'grain',\n",
        " 'groundnut',\n",
        " 'groundnut-oil',\n",
        " 'heat',\n",
        " 'hog',\n",
        " 'housing',\n",
        " 'income',\n",
        " ...]"
      ]
    },
    {
      "cell_type": "markdown",
      "metadata": {},
      "source": [
        "### 與Brown Corpus不同，Reuters Corpus類別的文章彼此會重複，因為新聞故事通常涵蓋多個主題，我們可以透過文章的ID來找出其中包含哪些類別"
      ]
    },
    {
      "cell_type": "markdown",
      "metadata": {},
      "source": [
        "### 使用文章ID找出其類別"
      ]
    },
    {
      "cell_type": "code",
      "execution_count": 133,
      "metadata": {},
      "outputs": [
        {
          "data": {
            "text/plain": [
              "['barley', 'corn', 'grain', 'wheat']"
            ]
          },
          "execution_count": 133,
          "metadata": {},
          "output_type": "execute_result"
        }
      ],
      "source": [
        "reuters.categories('training/9865')"
      ]
    },
    {
      "cell_type": "code",
      "execution_count": 143,
      "metadata": {},
      "outputs": [
        {
          "data": {
            "text/plain": [
              "['barley', 'corn', 'grain', 'money-fx', 'wheat']"
            ]
          },
          "execution_count": 143,
          "metadata": {},
          "output_type": "execute_result"
        }
      ],
      "source": [
        "reuters.categories(['training/9865', 'training/9880'])"
      ]
    },
    {
      "cell_type": "markdown",
      "metadata": {},
      "source": [
        "### 使用類別找文章ID"
      ]
    },
    {
      "cell_type": "code",
      "execution_count": 135,
      "metadata": {},
      "outputs": [
        {
          "data": {
            "text/plain": [
              "['test/15618',\n",
              " 'test/15649',\n",
              " 'test/15676',\n",
              " 'test/15728',\n",
              " 'test/15871',\n",
              " 'test/15875',\n",
              " 'test/15952',\n",
              " 'test/17767',\n",
              " 'test/17769',\n",
              " 'test/18024',\n",
              " 'test/18263',\n",
              " 'test/18908',\n",
              " 'test/19275',\n",
              " 'test/19668',\n",
              " 'training/10175',\n",
              " 'training/1067',\n",
              " 'training/11208',\n",
              " 'training/11316',\n",
              " 'training/11885',\n",
              " 'training/12428',\n",
              " 'training/13099',\n",
              " 'training/13744',\n",
              " 'training/13795',\n",
              " 'training/13852',\n",
              " 'training/13856',\n",
              " 'training/1652',\n",
              " 'training/1970',\n",
              " 'training/2044',\n",
              " 'training/2171',\n",
              " 'training/2172',\n",
              " 'training/2191',\n",
              " 'training/2217',\n",
              " 'training/2232',\n",
              " 'training/3132',\n",
              " 'training/3324',\n",
              " 'training/395',\n",
              " 'training/4280',\n",
              " 'training/4296',\n",
              " 'training/5',\n",
              " 'training/501',\n",
              " 'training/5467',\n",
              " 'training/5610',\n",
              " 'training/5640',\n",
              " 'training/6626',\n",
              " 'training/7205',\n",
              " 'training/7579',\n",
              " 'training/8213',\n",
              " 'training/8257',\n",
              " 'training/8759',\n",
              " 'training/9865',\n",
              " 'training/9958']"
            ]
          },
          "execution_count": 135,
          "metadata": {},
          "output_type": "execute_result"
        }
      ],
      "source": [
        "reuters.fileids('barley')"
      ]
    },
    {
      "cell_type": "code",
      "execution_count": null,
      "metadata": {
        "collapsed": true
      },
      "outputs": [],
      "source": [
        "reuters.fileids(['barley', 'corn'])"
      ]
    },
    {
      "cell_type": "markdown",
      "metadata": {},
      "source": [
        "['test/14832',\n",
        " 'test/14858',\n",
        " 'test/15033',\n",
        " 'test/15043',\n",
        " 'test/15106',\n",
        " 'test/15287',\n",
        " 'test/15341',\n",
        " 'test/15618',\n",
        " 'test/15648',\n",
        " 'test/15649',\n",
        " 'test/15676',\n",
        " 'test/15686',\n",
        " 'test/15720',\n",
        " 'test/15728',\n",
        " 'test/15845',\n",
        " 'test/15856',\n",
        " 'test/15860',\n",
        " 'test/15863',\n",
        " 'test/15871',\n",
        " ...]"
      ]
    },
    {
      "cell_type": "markdown",
      "metadata": {},
      "source": [
        "### 我們可以根據文章ID或類別找出其中的文字，每個這些文章中的第一句話是標題，會用大寫來表示。"
      ]
    },
    {
      "cell_type": "code",
      "execution_count": 147,
      "metadata": {
        "scrolled": true
      },
      "outputs": [
        {
          "data": {
            "text/plain": [
              "['FRENCH',\n",
              " 'FREE',\n",
              " 'MARKET',\n",
              " 'CEREAL',\n",
              " 'EXPORT',\n",
              " 'BIDS',\n",
              " 'DETAILED',\n",
              " 'French',\n",
              " 'operators',\n",
              " 'have',\n",
              " 'requested',\n",
              " 'licences',\n",
              " 'to',\n",
              " 'export']"
            ]
          },
          "execution_count": 147,
          "metadata": {},
          "output_type": "execute_result"
        }
      ],
      "source": [
        "reuters.words('training/9865')[:14]"
      ]
    },
    {
      "cell_type": "code",
      "execution_count": 148,
      "metadata": {},
      "outputs": [
        {
          "data": {
            "text/plain": [
              "['FRENCH', 'FREE', 'MARKET', 'CEREAL', 'EXPORT', ...]"
            ]
          },
          "execution_count": 148,
          "metadata": {},
          "output_type": "execute_result"
        }
      ],
      "source": [
        "reuters.words(['training/9865', 'training/9880'])"
      ]
    },
    {
      "cell_type": "code",
      "execution_count": 149,
      "metadata": {},
      "outputs": [
        {
          "data": {
            "text/plain": [
              "['FRENCH', 'FREE', 'MARKET', 'CEREAL', 'EXPORT', ...]"
            ]
          },
          "execution_count": 149,
          "metadata": {},
          "output_type": "execute_result"
        }
      ],
      "source": [
        "reuters.words(categories='barley')"
      ]
    },
    {
      "cell_type": "code",
      "execution_count": 150,
      "metadata": {},
      "outputs": [
        {
          "data": {
            "text/plain": [
              "['THAI', 'TRADE', 'DEFICIT', 'WIDENS', 'IN', 'FIRST', ...]"
            ]
          },
          "execution_count": 150,
          "metadata": {},
          "output_type": "execute_result"
        }
      ],
      "source": [
        "reuters.words(categories=['barley', 'corn'])"
      ]
    },
    {
      "cell_type": "markdown",
      "metadata": {},
      "source": [
        "## 1.5   Inaugural Address Corpus\n",
        "### Inaugural Address Corpus 是美國總統就職演說的文集，共有56個，"
      ]
    },
    {
      "cell_type": "code",
      "execution_count": 21,
      "metadata": {},
      "outputs": [
        {
          "data": {
            "text/plain": [
              "['1789-Washington.txt',\n",
              " '1793-Washington.txt',\n",
              " '1797-Adams.txt',\n",
              " '1801-Jefferson.txt',\n",
              " '1805-Jefferson.txt',\n",
              " '1809-Madison.txt',\n",
              " '1813-Madison.txt',\n",
              " '1817-Monroe.txt',\n",
              " '1821-Monroe.txt',\n",
              " '1825-Adams.txt',\n",
              " '1829-Jackson.txt',\n",
              " '1833-Jackson.txt',\n",
              " '1837-VanBuren.txt',\n",
              " '1841-Harrison.txt',\n",
              " '1845-Polk.txt',\n",
              " '1849-Taylor.txt',\n",
              " '1853-Pierce.txt',\n",
              " '1857-Buchanan.txt',\n",
              " '1861-Lincoln.txt',\n",
              " '1865-Lincoln.txt',\n",
              " '1869-Grant.txt',\n",
              " '1873-Grant.txt',\n",
              " '1877-Hayes.txt',\n",
              " '1881-Garfield.txt',\n",
              " '1885-Cleveland.txt',\n",
              " '1889-Harrison.txt',\n",
              " '1893-Cleveland.txt',\n",
              " '1897-McKinley.txt',\n",
              " '1901-McKinley.txt',\n",
              " '1905-Roosevelt.txt',\n",
              " '1909-Taft.txt',\n",
              " '1913-Wilson.txt',\n",
              " '1917-Wilson.txt',\n",
              " '1921-Harding.txt',\n",
              " '1925-Coolidge.txt',\n",
              " '1929-Hoover.txt',\n",
              " '1933-Roosevelt.txt',\n",
              " '1937-Roosevelt.txt',\n",
              " '1941-Roosevelt.txt',\n",
              " '1945-Roosevelt.txt',\n",
              " '1949-Truman.txt',\n",
              " '1953-Eisenhower.txt',\n",
              " '1957-Eisenhower.txt',\n",
              " '1961-Kennedy.txt',\n",
              " '1965-Johnson.txt',\n",
              " '1969-Nixon.txt',\n",
              " '1973-Nixon.txt',\n",
              " '1977-Carter.txt',\n",
              " '1981-Reagan.txt',\n",
              " '1985-Reagan.txt',\n",
              " '1989-Bush.txt',\n",
              " '1993-Clinton.txt',\n",
              " '1997-Clinton.txt',\n",
              " '2001-Bush.txt',\n",
              " '2005-Bush.txt',\n",
              " '2009-Obama.txt']"
            ]
          },
          "execution_count": 21,
          "metadata": {},
          "output_type": "execute_result"
        }
      ],
      "source": [
        "from nltk.corpus import inaugural\n",
        "inaugural.fileids()"
      ]
    },
    {
      "cell_type": "markdown",
      "metadata": {},
      "source": [
        "### 每個文件裡的開頭都是年份，所以使用fileid [：4] 就可以取出每份文件的年份"
      ]
    },
    {
      "cell_type": "code",
      "execution_count": 3,
      "metadata": {},
      "outputs": [
        {
          "data": {
            "text/plain": [
              "['1789',\n",
              " '1793',\n",
              " '1797',\n",
              " '1801',\n",
              " '1805',\n",
              " '1809',\n",
              " '1813',\n",
              " '1817',\n",
              " '1821',\n",
              " '1825',\n",
              " '1829',\n",
              " '1833',\n",
              " '1837',\n",
              " '1841',\n",
              " '1845',\n",
              " '1849',\n",
              " '1853',\n",
              " '1857',\n",
              " '1861',\n",
              " '1865',\n",
              " '1869',\n",
              " '1873',\n",
              " '1877',\n",
              " '1881',\n",
              " '1885',\n",
              " '1889',\n",
              " '1893',\n",
              " '1897',\n",
              " '1901',\n",
              " '1905',\n",
              " '1909',\n",
              " '1913',\n",
              " '1917',\n",
              " '1921',\n",
              " '1925',\n",
              " '1929',\n",
              " '1933',\n",
              " '1937',\n",
              " '1941',\n",
              " '1945',\n",
              " '1949',\n",
              " '1953',\n",
              " '1957',\n",
              " '1961',\n",
              " '1965',\n",
              " '1969',\n",
              " '1973',\n",
              " '1977',\n",
              " '1981',\n",
              " '1985',\n",
              " '1989',\n",
              " '1993',\n",
              " '1997',\n",
              " '2001',\n",
              " '2005',\n",
              " '2009']"
            ]
          },
          "execution_count": 3,
          "metadata": {},
          "output_type": "execute_result"
        }
      ],
      "source": [
        "[fileid[:4] for fileid in inaugural.fileids()]"
      ]
    },
    {
      "cell_type": "markdown",
      "metadata": {},
      "source": [
        "### 使用ConditionalFreqDist()來計算每年總統演講中，美國 或 公民出現幾次\n",
        "\n",
        "startswith() 判斷是否以指定字元為開頭\n",
        "\n",
        "plot() 製作成圖表"
      ]
    },
    {
      "cell_type": "code",
      "execution_count": 19,
      "metadata": {},
      "outputs": [
        {
          "data": {
            "image/png": "[encoded data removed]",
            "text/plain": [
              "<matplotlib.figure.Figure at 0x22261a0ada0>"
            ]
          },
          "metadata": {},
          "output_type": "display_data"
        }
      ],
      "source": [
        "cfd = nltk.ConditionalFreqDist(\n",
        "            (target, fileid[:4])\n",
        "            for fileid in inaugural.fileids()\n",
        "            for w in inaugural.words(fileid)\n",
        "            for target in ['america', 'citizen']\n",
        "            if w.lower().startswith(target))\n",
        "cfd.plot()"
      ]
    },
    {
      "cell_type": "markdown",
      "metadata": {},
      "source": [
        "## 1.6   Annotated Text Corpora\n",
        "### Annotated Text Corpora 是包含許多文集的POS標籤、名稱、作者、內文資料的註解文集，為了來方便進行文集的查詢所產生\n",
        "### 下列的表列出一些文集，如何下載參閱 http://nltk.org/data ，如何使用參閱 http://nltk.org/howto\n",
        " ![table.jpg](https://i.imgur.com/GZhREMx.jpg)"
      ]
    },
    {
      "cell_type": "markdown",
      "metadata": {},
      "source": [
        "## 1.7   Corpora in Other Languages\n",
        "### nltk有許多語言的文集，在某些情況下，你需要進行文字的編碼才能正常操作。"
      ]
    },
    {
      "cell_type": "code",
      "execution_count": 22,
      "metadata": {},
      "outputs": [
        {
          "data": {
            "text/plain": [
              "['El', 'grupo', 'estatal', 'Electricité_de_France', ...]"
            ]
          },
          "execution_count": 22,
          "metadata": {},
          "output_type": "execute_result"
        }
      ],
      "source": [
        "nltk.corpus.cess_esp.words()"
      ]
    },
    {
      "cell_type": "code",
      "execution_count": 23,
      "metadata": {},
      "outputs": [
        {
          "data": {
            "text/plain": [
              "['Um', 'revivalismo', 'refrescante', 'O', '7_e_Meio', ...]"
            ]
          },
          "execution_count": 23,
          "metadata": {},
          "output_type": "execute_result"
        }
      ],
      "source": [
        " nltk.corpus.floresta.words()"
      ]
    },
    {
      "cell_type": "code",
      "execution_count": 26,
      "metadata": {},
      "outputs": [
        {
          "data": {
            "text/plain": [
              "['पूर्ण', 'प्रतिबंध', 'हटाओ', ':', 'इराक', 'संयुक्त', ...]"
            ]
          },
          "execution_count": 26,
          "metadata": {},
          "output_type": "execute_result"
        }
      ],
      "source": [
        "nltk.corpus.indian.words('hindi.pos')"
      ]
    },
    {
      "cell_type": "markdown",
      "metadata": {},
      "source": [
        "### udhr Corpora 中包括了超過300種語言的“世界人權宣言”"
      ]
    },
    {
      "cell_type": "code",
      "execution_count": null,
      "metadata": {
        "collapsed": true
      },
      "outputs": [],
      "source": [
        "nltk.corpus.udhr.fileids()"
      ]
    },
    {
      "cell_type": "markdown",
      "metadata": {},
      "source": [
        "['Abkhaz-Cyrillic+Abkh',\n",
        " 'Abkhaz-UTF8',\n",
        " 'Achehnese-Latin1',\n",
        " 'Achuar-Shiwiar-Latin1',\n",
        " 'Adja-UTF8',\n",
        " 'Afaan_Oromo_Oromiffa-Latin1',\n",
        " 'Afrikaans-Latin1',\n",
        " 'Aguaruna-Latin1',\n",
        " 'Akuapem_Twi-UTF8',\n",
        " 'Albanian_Shqip-Latin1',\n",
        " 'Amahuaca',\n",
        " 'Amahuaca-Latin1',\n",
        " 'Amarakaeri-Latin1',\n",
        " 'Amuesha-Yanesha-UTF8',\n",
        " 'Arabela-Latin1',\n",
        " 'Arabic_Alarabia-Arabic',\n",
        " 'Asante-UTF8',\n",
        " 'Ashaninca-Latin1',\n",
        " 'Asheninca-Latin1',\n",
        " 'Asturian_Bable-Latin1',\n",
        " ...]"
      ]
    },
    {
      "cell_type": "code",
      "execution_count": 9,
      "metadata": {},
      "outputs": [
        {
          "data": {
            "text/plain": [
              "['世界人权宣言', '联合国大会一九四八年十二月十日第217A', '(', 'III', ')', ...]"
            ]
          },
          "execution_count": 9,
          "metadata": {},
          "output_type": "execute_result"
        }
      ],
      "source": [
        "nltk.corpus.udhr.words('Chinese_Mandarin-GB2312')"
      ]
    },
    {
      "cell_type": "markdown",
      "metadata": {},
      "source": [
        "### 使用ConditionalFreqDist()來計算在不同語言中每個單字長度的數量\n",
        "\n",
        "cumulative=True 會將每筆數量一直累加"
      ]
    },
    {
      "cell_type": "code",
      "execution_count": 21,
      "metadata": {},
      "outputs": [
        {
          "data": {
            "image/png": "[encoded data removed]",
            "text/plain": [
              "<matplotlib.figure.Figure at 0x24c73ebfcf8>"
            ]
          },
          "metadata": {},
          "output_type": "display_data"
        }
      ],
      "source": [
        "from nltk.corpus import udhr\n",
        "languages = ['Chickasaw', 'English', 'German_Deutsch',\n",
        "     'Greenlandic_Inuktikut', 'Hungarian_Magyar', 'Ibibio_Efik']\n",
        "cfd = nltk.ConditionalFreqDist(\n",
        "    (lang, len(word))\n",
        "    for lang in languages\n",
        "    for word in udhr.words(lang + '-Latin1'))\n",
        "cfd.plot(cumulative=True)"
      ]
    },
    {
      "cell_type": "markdown",
      "metadata": {
        "collapsed": true
      },
      "source": [
        "## 1.8   Text Corpus Structure\n",
        "### 上述以提到許多種類的文集結構，最簡單的是沒有任何結構，就是單純的一個文件，但通常文件都會依照來源、作者、語言等來分類，有時類別可能會重複，常發生在主題相關的結構，也有些文件擁有時間結構，常出現於新聞文集中。\n",
        "![table2.jpg](https://i.imgur.com/8DDh60x.jpg)\n",
        "\n",
        "\n",
        "### nltk中的基本函式\n",
        "![table3.jpg](https://i.imgur.com/NKfiaoW.jpg)"
      ]
    },
    {
      "cell_type": "code",
      "execution_count": 27,
      "metadata": {},
      "outputs": [
        {
          "data": {
            "text/plain": [
              "'The Adventures of B'"
            ]
          },
          "execution_count": 27,
          "metadata": {},
          "output_type": "execute_result"
        }
      ],
      "source": [
        "from nltk.corpus import gutenberg\n",
        "raw = gutenberg.raw(\"burgess-busterbrown.txt\")\n",
        "raw [1:20]"
      ]
    },
    {
      "cell_type": "code",
      "execution_count": 28,
      "metadata": {},
      "outputs": [
        {
          "data": {
            "text/plain": [
              "['The',\n",
              " 'Adventures',\n",
              " 'of',\n",
              " 'Buster',\n",
              " 'Bear',\n",
              " 'by',\n",
              " 'Thornton',\n",
              " 'W',\n",
              " '.',\n",
              " 'Burgess',\n",
              " '1920',\n",
              " ']',\n",
              " 'I',\n",
              " 'BUSTER',\n",
              " 'BEAR',\n",
              " 'GOES',\n",
              " 'FISHING',\n",
              " 'Buster',\n",
              " 'Bear']"
            ]
          },
          "execution_count": 28,
          "metadata": {},
          "output_type": "execute_result"
        }
      ],
      "source": [
        "words = gutenberg.words(\"burgess-busterbrown.txt\")\n",
        "words[1:20]"
      ]
    },
    {
      "cell_type": "code",
      "execution_count": null,
      "metadata": {
        "collapsed": true
      },
      "outputs": [],
      "source": [
        "sents = gutenberg.sents(\"burgess-busterbrown.txt\")\n",
        "sents[1:20]"
      ]
    },
    {
      "cell_type": "markdown",
      "metadata": {},
      "source": [
        "[['I'],\n",
        " ['BUSTER', 'BEAR', 'GOES', 'FISHING'],\n",
        " ['Buster',\n",
        "  'Bear',\n",
        "  'yawned',\n",
        "  'as',\n",
        "  'he',\n",
        "  'lay',\n",
        "  'on',\n",
        "  'his',\n",
        "  'comfortable',\n",
        "  'bed',\n",
        "  'of',\n",
        "  'leaves',\n",
        "  'and',\n",
        "  'watched',\n",
        "  'the',\n",
        "  'first',\n",
        "  'early',\n",
        "  'morning',\n",
        "  'sunbeams',\n",
        "  'creeping',\n",
        "  ...]"
      ]
    },
    {
      "cell_type": "markdown",
      "metadata": {},
      "source": [
        "## 1.9   Loading your own Corpus\n",
        "### 如果有自己的文字集，可以在 PlaintextCorpusReader 將其加載進程式中\n",
        "\n",
        "corpus_root 為文集的路徑\n",
        "\n",
        "' .* ' 為正規表示法，匹配所有檔案"
      ]
    },
    {
      "cell_type": "code",
      "execution_count": null,
      "metadata": {
        "collapsed": true
      },
      "outputs": [],
      "source": [
        "from nltk.corpus import PlaintextCorpusReader\n",
        "corpus_root = '/Users/user/Desktop/UDIC/KCM/zhwiki/AA/'\n",
        "wordlists = PlaintextCorpusReader(corpus_root, '.*')\n",
        "wordlists.fileids()"
      ]
    },
    {
      "cell_type": "markdown",
      "metadata": {},
      "source": [
        "['wiki_00',\n",
        " 'wiki_01',\n",
        " 'wiki_02',\n",
        " 'wiki_03',\n",
        " 'wiki_04',\n",
        " 'wiki_05',\n",
        " 'wiki_06',\n",
        " 'wiki_07',\n",
        " 'wiki_08',\n",
        " 'wiki_09',\n",
        " 'wiki_10',\n",
        " 'wiki_11',\n",
        " 'wiki_12',\n",
        " 'wiki_13',\n",
        " 'wiki_14',\n",
        " 'wiki_15',\n",
        " 'wiki_16',\n",
        " 'wiki_17',\n",
        " 'wiki_18',\n",
        " 'wiki_19',\n",
        " 'wiki_20',\n",
        " 'wiki_21',\n",
        " 'wiki_22',\n",
        " 'wiki_23',\n",
        " 'wiki_24',\n",
        " 'wiki_25',\n",
        " 'wiki_26',\n",
        " 'wiki_27',\n",
        " 'wiki_28',\n",
        " 'wiki_29',\n",
        " 'wiki_30',\n",
        " ...]"
      ]
    },
    {
      "cell_type": "code",
      "execution_count": 85,
      "metadata": {},
      "outputs": [
        {
          "data": {
            "text/plain": [
              "['<', 'doc', 'id', '=\"', '13', '\"', 'url', '=\"', ...]"
            ]
          },
          "execution_count": 85,
          "metadata": {},
          "output_type": "execute_result"
        }
      ],
      "source": [
        "wordlists.words('wiki_00')"
      ]
    },
    {
      "cell_type": "markdown",
      "metadata": {},
      "source": [
        "### 假如你的文字集有進行分類的 可使用 PlaintextCorpusReader 來進行更進階的解析"
      ]
    },
    {
      "cell_type": "code",
      "execution_count": null,
      "metadata": {
        "collapsed": true
      },
      "outputs": [],
      "source": [
        "from nltk.corpus import BracketParseCorpusReader\n",
        "corpus_root = '/Users/user/Desktop/UDIC/KCM/zhwiki/'\n",
        "file_pattern = \".*/wiki.*\"\n",
        "ptb = BracketParseCorpusReader(corpus_root, file_pattern)\n",
        "ptb.fileids()"
      ]
    },
    {
      "cell_type": "markdown",
      "metadata": {},
      "source": [
        "['AA/wiki_00',\n",
        " 'AA/wiki_01',\n",
        " 'AA/wiki_02',\n",
        " 'AA/wiki_03',\n",
        " 'AA/wiki_04',\n",
        " 'AA/wiki_05',\n",
        " 'AA/wiki_06',\n",
        " 'AA/wiki_07',\n",
        " 'AA/wiki_08',\n",
        " 'AA/wiki_09',\n",
        " 'AA/wiki_10',\n",
        " 'AA/wiki_11',\n",
        " 'AA/wiki_12',\n",
        " 'AA/wiki_13',\n",
        " 'AA/wiki_14',\n",
        " 'AA/wiki_15',\n",
        " 'AA/wiki_16',\n",
        " 'AA/wiki_17',\n",
        " 'AA/wiki_18',\n",
        " 'AA/wiki_19',\n",
        " 'AA/wiki_20',\n",
        " 'AA/wiki_21',\n",
        " 'AA/wiki_22',\n",
        " 'AA/wiki_23',\n",
        " 'AA/wiki_24',\n",
        " 'AA/wiki_25',\n",
        " 'AA/wiki_26',\n",
        " 'AA/wiki_27',\n",
        " ...]"
      ]
    },
    {
      "cell_type": "code",
      "execution_count": 94,
      "metadata": {},
      "outputs": [
        {
          "data": {
            "text/plain": [
              "[['right', 'provision', 'Copyright', 'legislation', 'collectives', 'TB1', 'VX2', 'WO', 'YN', '+', 'Prize', 'NT7', 'platform', 'Listener', 'Process', 'Programming', 'Tree', 'management', 'scripting', 'controls', 'services', 'Service', 'service', 'service', 'Part', 'Event', 'engine', 'page', 'master', 'Service', 'Development', 'No.574', 'f', 'Henson', 'Planet', 'Channel', '岛', 'benefits', 'E', 'S', 'E', 'S', 'Cabot', 'Cartier', 'Gilbert', 'manifold', 'geometry', 'Finsler']]"
            ]
          },
          "execution_count": 94,
          "metadata": {},
          "output_type": "execute_result"
        }
      ],
      "source": [
        "ptb.sents(fileids='AA/wiki_62')"
      ]
    },
    {
      "cell_type": "markdown",
      "metadata": {},
      "source": [
        "## Part 2  Conditional Frequency Distributions"
      ]
    },
    {
      "cell_type": "markdown",
      "metadata": {},
      "source": [
        "### 2.1   Conditions and Events"
      ]
    },
    {
      "cell_type": "markdown",
      "metadata": {},
      "source": [
        "### 條件頻率分佈需要將每個事件與條件配對。所以我們不必處理一系列的單詞，而是要處理一對的序列：\n",
        "### pairs = [('news', 'The'), ('news', 'Fulton'), ('news', 'County'), ...]"
      ]
    },
    {
      "cell_type": "code",
      "execution_count": 98,
      "metadata": {},
      "outputs": [
        {
          "data": {
            "text/plain": [
              "15"
            ]
          },
          "execution_count": 98,
          "metadata": {},
          "output_type": "execute_result"
        }
      ],
      "source": [
        "from nltk.corpus import brown\n",
        "len(brown.categories())"
      ]
    },
    {
      "cell_type": "code",
      "execution_count": 99,
      "metadata": {},
      "outputs": [
        {
          "data": {
            "text/plain": [
              "1161192"
            ]
          },
          "execution_count": 99,
          "metadata": {},
          "output_type": "execute_result"
        }
      ],
      "source": [
        "len(brown.words())"
      ]
    },
    {
      "cell_type": "markdown",
      "metadata": {},
      "source": [
        "### 每對都是以（條件，事件）組成，假設使用brown文集，那麼將有15個條件（每個類型一個）和1,161,192個事件（每個字一個），共有 15 * 1161192 對"
      ]
    },
    {
      "cell_type": "markdown",
      "metadata": {},
      "source": [
        "## 2.2   Counting Words by Genre\n",
        "### 在計算頻率分佈時，FreqDist()是獲得單一的列表，ConditionalFreqDist()則是獲得一對的列表"
      ]
    },
    {
      "cell_type": "code",
      "execution_count": null,
      "metadata": {
        "collapsed": true
      },
      "outputs": [],
      "source": [
        "from nltk.corpus import brown\n",
        "news_text = brown.words(categories='news')\n",
        "fdist = nltk.FreqDist(w.lower() for w in news_text)\n",
        "for ele in fdist:\n",
        "    print(ele + ': ' + str(fdist[ele]))"
      ]
    },
    {
      "cell_type": "markdown",
      "metadata": {},
      "source": [
        "the: 6386\n",
        "fulton: 14\n",
        "county: 61\n",
        "grand: 19\n",
        "jury: 46\n",
        "said: 406\n",
        "friday: 41\n",
        "an: 311\n",
        "investigation: 11\n",
        "of: 2861\n",
        "atlanta's: 4\n",
        "recent: 20\n",
        "primary: 17\n",
        "election: 41\n",
        "produced: 6\n",
        "..."
      ]
    },
    {
      "cell_type": "code",
      "execution_count": 120,
      "metadata": {},
      "outputs": [
        {
          "name": "stdout",
          "output_type": "stream",
          "text": [
            "                  can could   may might  must  will \n",
            "           news    93    86    66    38    50   389 \n",
            "       religion    82    59    78    12    54    71 \n",
            "        hobbies   268    58   131    22    83   264 \n",
            "science_fiction    16    49     4    12     8    16 \n",
            "        romance    74   193    11    51    45    43 \n",
            "          humor    16    30     8     8     9    13 \n"
          ]
        }
      ],
      "source": [
        "from nltk.corpus import brown\n",
        "cfd = nltk.ConditionalFreqDist(\n",
        "    (genre, word)\n",
        "    for genre in brown.categories()\n",
        "    for word in brown.words(categories=genre))\n",
        "genres = ['news', 'religion', 'hobbies', 'science_fiction', 'romance', 'humor']\n",
        "modals = ['can', 'could', 'may', 'might', 'must', 'will']\n",
        "cfd.tabulate(conditions = genres, samples = modals)"
      ]
    },
    {
      "cell_type": "markdown",
      "metadata": {},
      "source": [
        "### 計算出在new、romance兩個類別中總共有幾對"
      ]
    },
    {
      "cell_type": "code",
      "execution_count": 129,
      "metadata": {},
      "outputs": [
        {
          "data": {
            "text/plain": [
              "170576"
            ]
          },
          "execution_count": 129,
          "metadata": {},
          "output_type": "execute_result"
        }
      ],
      "source": [
        "genre_word = [(genre, word)\n",
        "              for genre in ['news', 'romance'] \n",
        "              for word in brown.words(categories=genre)]\n",
        "len(genre_word)"
      ]
    },
    {
      "cell_type": "markdown",
      "metadata": {},
      "source": [
        "### 可以查看出列表前面是由new組成，而後面則由romance組成"
      ]
    },
    {
      "cell_type": "code",
      "execution_count": 130,
      "metadata": {},
      "outputs": [
        {
          "data": {
            "text/plain": [
              "[('news', 'The'), ('news', 'Fulton'), ('news', 'County'), ('news', 'Grand')]"
            ]
          },
          "execution_count": 130,
          "metadata": {},
          "output_type": "execute_result"
        }
      ],
      "source": [
        "genre_word[:4]"
      ]
    },
    {
      "cell_type": "code",
      "execution_count": 132,
      "metadata": {},
      "outputs": [
        {
          "data": {
            "text/plain": [
              "[('romance', 'afraid'),\n",
              " ('romance', 'not'),\n",
              " ('romance', \"''\"),\n",
              " ('romance', '.')]"
            ]
          },
          "execution_count": 132,
          "metadata": {},
          "output_type": "execute_result"
        }
      ],
      "source": [
        "genre_word[-4:]"
      ]
    },
    {
      "cell_type": "markdown",
      "metadata": {},
      "source": [
        "### 我們可以用此列表來創建一個ConditionalFreqDist，即可查詢其中有兩個條件，並列出條件名稱"
      ]
    },
    {
      "cell_type": "code",
      "execution_count": 138,
      "metadata": {},
      "outputs": [
        {
          "name": "stdout",
          "output_type": "stream",
          "text": [
            "<ConditionalFreqDist with 2 conditions>\n"
          ]
        }
      ],
      "source": [
        "cfd = nltk.ConditionalFreqDist(genre_word)\n",
        "print(cfd)"
      ]
    },
    {
      "cell_type": "code",
      "execution_count": 139,
      "metadata": {},
      "outputs": [
        {
          "data": {
            "text/plain": [
              "['news', 'romance']"
            ]
          },
          "execution_count": 139,
          "metadata": {},
          "output_type": "execute_result"
        }
      ],
      "source": [
        "cfd.conditions()"
      ]
    },
    {
      "cell_type": "markdown",
      "metadata": {},
      "source": [
        "### 查看兩個條件在ConditionalFreqDist中的頻率分布"
      ]
    },
    {
      "cell_type": "code",
      "execution_count": 140,
      "metadata": {},
      "outputs": [
        {
          "name": "stdout",
          "output_type": "stream",
          "text": [
            "<FreqDist with 14394 samples and 100554 outcomes>\n"
          ]
        }
      ],
      "source": [
        "print(cfd['news'])"
      ]
    },
    {
      "cell_type": "code",
      "execution_count": 141,
      "metadata": {},
      "outputs": [
        {
          "name": "stdout",
          "output_type": "stream",
          "text": [
            "<FreqDist with 8452 samples and 70022 outcomes>\n"
          ]
        }
      ],
      "source": [
        "print(cfd['romance'])"
      ]
    },
    {
      "cell_type": "markdown",
      "metadata": {},
      "source": [
        "### 列出romance中頻率最多的20個"
      ]
    },
    {
      "cell_type": "code",
      "execution_count": 142,
      "metadata": {},
      "outputs": [
        {
          "data": {
            "text/plain": [
              "[(',', 3899),\n",
              " ('.', 3736),\n",
              " ('the', 2758),\n",
              " ('and', 1776),\n",
              " ('to', 1502),\n",
              " ('a', 1335),\n",
              " ('of', 1186),\n",
              " ('``', 1045),\n",
              " (\"''\", 1044),\n",
              " ('was', 993),\n",
              " ('I', 951),\n",
              " ('in', 875),\n",
              " ('he', 702),\n",
              " ('had', 692),\n",
              " ('?', 690),\n",
              " ('her', 651),\n",
              " ('that', 583),\n",
              " ('it', 573),\n",
              " ('his', 559),\n",
              " ('she', 496)]"
            ]
          },
          "execution_count": 142,
          "metadata": {},
          "output_type": "execute_result"
        }
      ],
      "source": [
        "cfd['romance'].most_common(20)"
      ]
    },
    {
      "cell_type": "markdown",
      "metadata": {},
      "source": [
        "### 列出was在romance中出現的頻率"
      ]
    },
    {
      "cell_type": "code",
      "execution_count": 144,
      "metadata": {},
      "outputs": [
        {
          "data": {
            "text/plain": [
              "993"
            ]
          },
          "execution_count": 144,
          "metadata": {},
          "output_type": "execute_result"
        }
      ],
      "source": [
        "cfd['romance']['was']"
      ]
    },
    {
      "cell_type": "markdown",
      "metadata": {},
      "source": [
        "## 2.3   Plotting and Tabulating Distributions\n",
        "### ConditionalFreqDist也提供了一些有用的表格和繪圖方法"
      ]
    },
    {
      "cell_type": "markdown",
      "metadata": {},
      "source": [
        "### 我們使用 inaugural 文集，條件分成\"美國\"和\"公民\"，計算出在每個文件中分別出現\"美國\"或\"公民\"的次數，並且我們使用文件的年份來統計，形成('america', '1865')的集合。"
      ]
    },
    {
      "cell_type": "code",
      "execution_count": 151,
      "metadata": {},
      "outputs": [
        {
          "data": {
            "image/png": "[encoded data removed]",
            "text/plain": [
              "<matplotlib.figure.Figure at 0x24c7d601e48>"
            ]
          },
          "metadata": {},
          "output_type": "display_data"
        }
      ],
      "source": [
        "from nltk.corpus import inaugural\n",
        "cfd = nltk.ConditionalFreqDist(\n",
        "     (target, fileid[:4])\n",
        "    for fileid in inaugural.fileids()\n",
        "    for w in inaugural.words(fileid)\n",
        "    for target in ['america', 'citizen']\n",
        "    if w.lower().startswith(target))\n",
        "cfd.plot()"
      ]
    },
    {
      "cell_type": "markdown",
      "metadata": {},
      "source": [
        "### 我們使用 udhr 文集，來統計在各語言中每個字的長度數量。\n",
        "tabulate() 可以使用 conditions 來指定要顯示的類別\n",
        "\n",
        "cumulative 是否累加結果"
      ]
    },
    {
      "cell_type": "code",
      "execution_count": 4,
      "metadata": {},
      "outputs": [
        {
          "data": {
            "image/png": "[encoded data removed]",
            "text/plain": [
              "<matplotlib.figure.Figure at 0x20c30428ef0>"
            ]
          },
          "metadata": {},
          "output_type": "display_data"
        }
      ],
      "source": [
        "from nltk.corpus import udhr\n",
        "languages = ['Chickasaw', 'English', 'German_Deutsch',\n",
        "     'Greenlandic_Inuktikut', 'Hungarian_Magyar', 'Ibibio_Efik']\n",
        "cfd = nltk.ConditionalFreqDist(\n",
        "    (lang, len(word))\n",
        "    for lang in languages\n",
        "    for word in udhr.words(lang + '-Latin1'))\n",
        "cfd.plot(cumulative=True)"
      ]
    },
    {
      "cell_type": "code",
      "execution_count": 7,
      "metadata": {},
      "outputs": [
        {
          "name": "stdout",
          "output_type": "stream",
          "text": [
            "                  0    1    2    3    4    5    6    7    8    9 \n",
            "       English    0  185  525  883  997 1166 1283 1440 1558 1638 \n",
            "German_Deutsch    0  171  263  614  717  894 1013 1110 1213 1275 \n"
          ]
        }
      ],
      "source": [
        "cfd.tabulate(conditions=['English', 'German_Deutsch'],\n",
        "             samples=range(10), cumulative=True)"
      ]
    },
    {
      "cell_type": "markdown",
      "metadata": {},
      "source": [
        "## 2.4   Generating Random Text with Bigrams\n",
        "###  bigrams() 函數可以將一個單詞列表，構建成一個連續單詞配對列表。為了看到結果我們必須使用list()函數將結果包起來"
      ]
    },
    {
      "cell_type": "code",
      "execution_count": 8,
      "metadata": {},
      "outputs": [
        {
          "data": {
            "text/plain": [
              "[('In', 'the'),\n",
              " ('the', 'beginning'),\n",
              " ('beginning', 'God'),\n",
              " ('God', 'created'),\n",
              " ('created', 'the'),\n",
              " ('the', 'heaven'),\n",
              " ('heaven', 'and'),\n",
              " ('and', 'the'),\n",
              " ('the', 'earth'),\n",
              " ('earth', '.')]"
            ]
          },
          "execution_count": 8,
          "metadata": {},
          "output_type": "execute_result"
        }
      ],
      "source": [
        "sent = ['In', 'the', 'beginning', 'God', 'created', 'the', 'heaven',\n",
        "        'and', 'the', 'earth', '.']\n",
        "list(nltk.bigrams(sent))"
      ]
    },
    {
      "cell_type": "markdown",
      "metadata": {},
      "source": [
        "### 使用之前的ConditionalFreqDist()將產生的bigrams()代入，即可以得到一個單詞與鄰近詞配對的次數"
      ]
    },
    {
      "cell_type": "code",
      "execution_count": 19,
      "metadata": {},
      "outputs": [
        {
          "data": {
            "text/plain": [
              "FreqDist({',': 1,\n",
              "          '.': 1,\n",
              "          'creature': 7,\n",
              "          'soul': 1,\n",
              "          'substance': 2,\n",
              "          'thing': 4})"
            ]
          },
          "execution_count": 19,
          "metadata": {},
          "output_type": "execute_result"
        }
      ],
      "source": [
        "def generate_model(cfdist, word, num=15):\n",
        "    for i in range(num):\n",
        "        print(word, end=' ')\n",
        "        word = cfdist[word].max()\n",
        "\n",
        "text = nltk.corpus.genesis.words('english-kjv.txt')\n",
        "bigrams = nltk.bigrams(text)\n",
        "cfd = nltk.ConditionalFreqDist(bigrams)\n",
        "cfd['living']"
      ]
    },
    {
      "cell_type": "markdown",
      "metadata": {},
      "source": [
        "### 使用generate_mode函式，我們可以找出一個詞配對的最大值，並在用最大值依序尋找其最大值，最後得到一個隨機組成的句子。"
      ]
    },
    {
      "cell_type": "code",
      "execution_count": 11,
      "metadata": {},
      "outputs": [
        {
          "name": "stdout",
          "output_type": "stream",
          "text": [
            "living creature that he said , and the land of the land of the land "
          ]
        }
      ],
      "source": [
        "generate_model(cfd, 'living')"
      ]
    },
    {
      "cell_type": "markdown",
      "metadata": {},
      "source": [
        "### nltk條件分佈頻率的基本函式\n",
        "!['table4.jpg'](https://i.imgur.com/HEAeqiq.jpg)"
      ]
    },
    {
      "cell_type": "markdown",
      "metadata": {},
      "source": [
        "## Part 3   More Python: Reusing Code\n",
        "## 3.1   Creating Programs with a Text Editor\n",
        "### python 內建的IDLE 雖然輸入即可執行，但當需要大量程式碼執行時，使用文字編輯器是更好的選擇。"
      ]
    },
    {
      "cell_type": "markdown",
      "metadata": {},
      "source": [
        "## 3.2   Functions"
      ]
    },
    {
      "cell_type": "markdown",
      "metadata": {},
      "source": [
        "### 當程式中有部分程式碼一直不斷重複的執行時，可以使用def來定義一個function，當要執行此段程式碼時呼叫function即可"
      ]
    },
    {
      "cell_type": "markdown",
      "metadata": {},
      "source": [
        "### lexical_diversity 函式在計算詞的多樣性，vocab_size(詞的種類) / word_count(詞的總數)"
      ]
    },
    {
      "cell_type": "code",
      "execution_count": 31,
      "metadata": {},
      "outputs": [
        {
          "data": {
            "text/plain": [
              "0.06230453042623537"
            ]
          },
          "execution_count": 31,
          "metadata": {},
          "output_type": "execute_result"
        }
      ],
      "source": [
        "def lexical_diversity(my_text_data):\n",
        "     word_count = len(my_text_data)\n",
        "     vocab_size = len(set(my_text_data))\n",
        "     diversity_score = vocab_size / word_count\n",
        "     return diversity_score\n",
        "\n",
        "from nltk.corpus import genesis\n",
        "kjv = genesis.words('english-kjv.txt')\n",
        "lexical_diversity(kjv)"
      ]
    },
    {
      "cell_type": "markdown",
      "metadata": {},
      "source": [
        "### plural 函式在模擬英文單字複數的變化"
      ]
    },
    {
      "cell_type": "code",
      "execution_count": 33,
      "metadata": {},
      "outputs": [
        {
          "data": {
            "text/plain": [
              "'fairies'"
            ]
          },
          "execution_count": 33,
          "metadata": {},
          "output_type": "execute_result"
        }
      ],
      "source": [
        "def plural(word):\n",
        "    if word.endswith('y'):\n",
        "        return word[:-1] + 'ies'\n",
        "    elif word[-1] in 'sx' or word[-2:] in ['sh', 'ch']:\n",
        "        return word + 'es'\n",
        "    elif word.endswith('an'):\n",
        "        return word[:-2] + 'en'\n",
        "    else:\n",
        "        return word + 's'\n",
        "\n",
        "plural('fairy')"
      ]
    },
    {
      "cell_type": "code",
      "execution_count": 34,
      "metadata": {
        "scrolled": true
      },
      "outputs": [
        {
          "data": {
            "text/plain": [
              "'women'"
            ]
          },
          "execution_count": 34,
          "metadata": {},
          "output_type": "execute_result"
        }
      ],
      "source": [
        "plural('woman')"
      ]
    },
    {
      "cell_type": "markdown",
      "metadata": {},
      "source": [
        "## 3.3   Modules\n",
        "### 當程式碼越寫越多，可以將一些有用的程式碼建成模組，方便之後撰寫時可以直接import進程式碼中使用"
      ]
    },
    {
      "cell_type": "code",
      "execution_count": 3,
      "metadata": {
        "scrolled": true
      },
      "outputs": [
        {
          "data": {
            "text/plain": [
              "'fairies'"
            ]
          },
          "execution_count": 3,
          "metadata": {},
          "output_type": "execute_result"
        }
      ],
      "source": [
        "from text_proc import plural\n",
        "plural('fairy')"
      ]
    },
    {
      "cell_type": "code",
      "execution_count": 4,
      "metadata": {},
      "outputs": [
        {
          "data": {
            "text/plain": [
              "'women'"
            ]
          },
          "execution_count": 4,
          "metadata": {},
          "output_type": "execute_result"
        }
      ],
      "source": [
        "plural('woman')"
      ]
    },
    {
      "cell_type": "markdown",
      "metadata": {},
      "source": [
        "# 2. Accessing Text Corpora and Lexical Resources"
      ]
    },
    {
      "cell_type": "markdown",
      "metadata": {},
      "source": [
        "## 4   Lexical Resources"
      ]
    },
    {
      "cell_type": "markdown",
      "metadata": {},
      "source": [
        "## 4.1   Wordlist Corpora\n",
        "### NLTK 包含一些單純單詞列表的文集，在Unix中的存放路徑為 /usr/share/dict/words，並提供拼字檢查器使用，使得能找出罕見或拼字錯誤的詞。"
      ]
    },
    {
      "cell_type": "code",
      "execution_count": 5,
      "metadata": {},
      "outputs": [],
      "source": [
        "import nltk"
      ]
    },
    {
      "cell_type": "code",
      "execution_count": 6,
      "metadata": {},
      "outputs": [],
      "source": [
        "def unusual_words(text):\n",
        "    text_vocab = set(w.lower() for w in text if w.isalpha())\n",
        "    english_vocab = set(w.lower() for w in nltk.corpus.words.words())\n",
        "    unusual = text_vocab - english_vocab\n",
        "    return sorted(unusual)"
      ]
    },
    {
      "cell_type": "markdown",
      "metadata": {},
      "source": [
        "### unusual_words() 這個函式將輸入的txt檔內容(austen-sense.txt)與nltk.corpus.words.words()的內容比較，將不重複的部分留下並排序後印出。"
      ]
    },
    {
      "cell_type": "code",
      "execution_count": null,
      "metadata": {},
      "outputs": [],
      "source": [
        "unusual_words(nltk.corpus.gutenberg.words('austen-sense.txt'))"
      ]
    },
    {
      "cell_type": "markdown",
      "metadata": {},
      "source": [
        "['abbeyland',\n",
        " 'abhorred',\n",
        " 'abilities',\n",
        " 'abounded',\n",
        " 'abridgement',\n",
        " 'abused',\n",
        " 'abuses',\n",
        " 'accents',\n",
        " 'accepting',\n",
        " 'accommodations',\n",
        " 'accompanied',\n",
        " 'accounted',\n",
        " 'accounts',\n",
        " 'accustomary',\n",
        " 'aches',\n",
        " 'acknowledging',\n",
        " 'acknowledgment',\n",
        " 'acknowledgments',\n",
        " 'acquaintances',\n",
        " 'acquiesced',\n",
        " 'acquitted',\n",
        " 'acquitting',\n",
        " 'acted',\n",
        " 'actions',\n",
        " 'adapted',\n",
        " 'adding',\n",
        " 'additions',\n",
        " 'addressed',\n",
        " 'addresses',\n",
        " 'addressing',\n",
        " 'adhering',\n",
        " 'adieus',\n",
        " 'adjusting',\n",
        " ...]"
      ]
    },
    {
      "cell_type": "code",
      "execution_count": null,
      "metadata": {},
      "outputs": [],
      "source": [
        "unusual_words(nltk.corpus.nps_chat.words())"
      ]
    },
    {
      "cell_type": "markdown",
      "metadata": {},
      "source": [
        "['aaaaaaaaaaaaaaaaa',\n",
        " 'aaahhhh',\n",
        " 'abortions',\n",
        " 'abou',\n",
        " 'abourted',\n",
        " 'abs',\n",
        " 'ack',\n",
        " 'acros',\n",
        " 'actualy',\n",
        " 'adams',\n",
        " 'adds',\n",
        " 'adduser',\n",
        " 'adjusts',\n",
        " 'adoted',\n",
        " 'adreniline',\n",
        " 'ads',\n",
        " 'adults',\n",
        " 'afe',\n",
        " 'affairs',\n",
        " 'affari',\n",
        " 'affects',\n",
        " 'afk',\n",
        " 'agaibn',\n",
        " 'ages',\n",
        " 'aggravated',\n",
        " 'agurlwithbigguns',\n",
        " 'ahah',\n",
        " 'ahahah',\n",
        " 'ahahh',\n",
        " 'ahahha',\n",
        " 'ahh',\n",
        " 'ahhah',\n",
        " 'ahhahahaha',\n",
        " 'ahhh',\n",
        " 'ahhhh',\n",
        " 'ahhhhhh',\n",
        " 'ahhhhhhhhhhhhhh',\n",
        " 'aiiiiiiiiiiiiiiiiiiiiiiii',\n",
        " 'aiken',\n",
        " 'aime',\n",
        " 'akdt',\n",
        " 'akon',\n",
        " 'akron',\n",
        " 'akst',\n",
        " 'aligator',\n",
        " 'allergies',\n",
        " 'allo',\n",
        " 'allowed',\n",
        " 'aloha',\n",
        " 'alohaaa',\n",
        " 'alohas',\n",
        " 'alot',\n",
        " 'alotta',\n",
        " 'alternatives',\n",
        " 'alterz',\n",
        " 'alwys',\n",
        " 'alzheimers',\n",
        " 'amazingness',\n",
        " 'americans',\n",
        " 'anithing',\n",
        " 'ans',\n",
        " 'answering',\n",
        " 'answers',\n",
        " 'antidepressants',\n",
        " 'anygirl',\n",
        " 'anymore',\n",
        " 'anythin',\n",
        " 'anytime',\n",
        " ...]"
      ]
    },
    {
      "cell_type": "markdown",
      "metadata": {},
      "source": [
        "### 刪除以存在過的詞，並只留下少見或拼錯的詞。"
      ]
    },
    {
      "cell_type": "markdown",
      "metadata": {},
      "source": [
        "## NLTK也有stopwords的文集:"
      ]
    },
    {
      "cell_type": "code",
      "execution_count": 16,
      "metadata": {},
      "outputs": [],
      "source": [
        "from nltk.corpus import stopwords"
      ]
    },
    {
      "cell_type": "code",
      "execution_count": null,
      "metadata": {},
      "outputs": [],
      "source": [
        "stopwords.words('english')"
      ]
    },
    {
      "cell_type": "markdown",
      "metadata": {},
      "source": [
        "['i',\n",
        " 'me',\n",
        " 'my',\n",
        " 'myself',\n",
        " 'we',\n",
        " 'our',\n",
        " 'ours',\n",
        " 'ourselves',\n",
        " 'you',\n",
        " 'your',\n",
        " 'yours',\n",
        " 'yourself',\n",
        " 'yourselves',\n",
        " 'he',\n",
        " 'him',\n",
        " 'his',\n",
        " 'himself',\n",
        " 'she',\n",
        " 'her',\n",
        " 'hers',\n",
        " 'herself',\n",
        " 'it',\n",
        " 'its',\n",
        " 'itself',\n",
        " 'they',\n",
        " 'them',\n",
        " 'their',\n",
        " 'theirs',\n",
        " 'themselves',\n",
        " 'what',\n",
        " 'which',\n",
        " 'who',\n",
        " 'whom',\n",
        " 'this',\n",
        " 'that',\n",
        " 'these',\n",
        " 'those',\n",
        " 'am',\n",
        " 'is',\n",
        " 'are',\n",
        " 'was',\n",
        " 'were',\n",
        " 'be',\n",
        " 'been',\n",
        " 'being',\n",
        " 'have',\n",
        " 'has',\n",
        " 'had',\n",
        " 'having',\n",
        " 'do',\n",
        " 'does',\n",
        " 'did',\n",
        " 'doing',\n",
        " 'a',\n",
        " 'an',\n",
        " ...]"
      ]
    },
    {
      "cell_type": "markdown",
      "metadata": {},
      "source": [
        "### content_fraction 這個函式用來計算一段文字中不屬於stopwords的比例有多少"
      ]
    },
    {
      "cell_type": "code",
      "execution_count": 21,
      "metadata": {},
      "outputs": [],
      "source": [
        "def content_fraction(text):\n",
        "    stopwords = nltk.corpus.stopwords.words('english')\n",
        "    content = [w for w in text if w.lower() not in stopwords]\n",
        "    return len(content) / len(text)"
      ]
    },
    {
      "cell_type": "code",
      "execution_count": 24,
      "metadata": {},
      "outputs": [
        {
          "data": {
            "text/plain": [
              "0.735240435097661"
            ]
          },
          "execution_count": 24,
          "metadata": {},
          "output_type": "execute_result"
        }
      ],
      "source": [
        "content_fraction(nltk.corpus.reuters.words())"
      ]
    },
    {
      "cell_type": "markdown",
      "metadata": {},
      "source": [
        "### 由此可知我們能透過stopwords來濾掉約莫四分之一的文字量。"
      ]
    },
    {
      "cell_type": "markdown",
      "metadata": {},
      "source": [
        "### wordlist 在解 word puzzles 時也很有幫助，過程中一一檢查是否有符合的條件，並且能方便規定詞的長度、必要的字母及是否允許重複等等。\n",
        "\n",
        "![word_puzzle.jpg](https://i.imgur.com/TPHPgl8.jpg)"
      ]
    },
    {
      "cell_type": "code",
      "execution_count": 28,
      "metadata": {},
      "outputs": [
        {
          "data": {
            "text/plain": [
              "['glover',\n",
              " 'gorlin',\n",
              " 'govern',\n",
              " 'grovel',\n",
              " 'ignore',\n",
              " 'involver',\n",
              " 'lienor',\n",
              " 'linger',\n",
              " 'longer',\n",
              " 'lovering',\n",
              " 'noiler',\n",
              " 'overling',\n",
              " 'region',\n",
              " 'renvoi',\n",
              " 'revolving',\n",
              " 'ringle',\n",
              " 'roving',\n",
              " 'violer',\n",
              " 'virole']"
            ]
          },
          "execution_count": 28,
          "metadata": {},
          "output_type": "execute_result"
        }
      ],
      "source": [
        "puzzle_letters = nltk.FreqDist('egivrvonl')\n",
        "obligatory = 'r'\n",
        "wordlist = nltk.corpus.words.words()\n",
        "\n",
        "[w for w in wordlist if len(w) >= 6\n",
        "                    and obligatory in w\n",
        "                    and nltk.FreqDist(w) <= puzzle_letters]"
      ]
    },
    {
      "cell_type": "markdown",
      "metadata": {},
      "source": [
        "### 另外也有一個姓名的wordlist corpus，包含超過8000個名字並按照性別分為兩個不同的檔案:"
      ]
    },
    {
      "cell_type": "code",
      "execution_count": 31,
      "metadata": {},
      "outputs": [
        {
          "data": {
            "text/plain": [
              "['female.txt', 'male.txt']"
            ]
          },
          "execution_count": 31,
          "metadata": {},
          "output_type": "execute_result"
        }
      ],
      "source": [
        "names = nltk.corpus.names\n",
        "names.fileids()"
      ]
    },
    {
      "cell_type": "markdown",
      "metadata": {},
      "source": [
        "### 試圖找出哪些名字同時出現在male與female名單中"
      ]
    },
    {
      "cell_type": "code",
      "execution_count": 32,
      "metadata": {},
      "outputs": [
        {
          "data": {
            "text/plain": [
              "['Abbey',\n",
              " 'Abbie',\n",
              " 'Abby',\n",
              " 'Addie',\n",
              " 'Adrian',\n",
              " 'Adrien',\n",
              " 'Ajay',\n",
              " 'Alex',\n",
              " 'Alexis',\n",
              " 'Alfie',\n",
              " 'Ali',\n",
              " 'Alix',\n",
              " 'Allie',\n",
              " 'Allyn',\n",
              " 'Andie',\n",
              " 'Andrea',\n",
              " 'Andy',\n",
              " 'Angel',\n",
              " 'Angie',\n",
              " 'Ariel',\n",
              " 'Ashley',\n",
              " 'Aubrey',\n",
              " 'Augustine',\n",
              " 'Austin',\n",
              " 'Averil',\n",
              " 'Barrie',\n",
              " 'Barry',\n",
              " 'Beau',\n",
              " 'Bennie',\n",
              " 'Benny',\n",
              " 'Bernie',\n",
              " 'Bert',\n",
              " 'Bertie',\n",
              " 'Bill',\n",
              " 'Billie',\n",
              " 'Billy',\n",
              " 'Blair',\n",
              " 'Blake',\n",
              " 'Bo',\n",
              " 'Bobbie',\n",
              " 'Bobby',\n",
              " 'Brandy',\n",
              " 'Brett',\n",
              " 'Britt',\n",
              " 'Brook',\n",
              " 'Brooke',\n",
              " 'Brooks',\n",
              " 'Bryn',\n",
              " 'Cal',\n",
              " 'Cam',\n",
              " 'Cammy',\n",
              " 'Carey',\n",
              " 'Carlie',\n",
              " 'Carlin',\n",
              " 'Carmine',\n",
              " 'Carroll',\n",
              " 'Cary',\n",
              " 'Caryl',\n",
              " 'Casey',\n",
              " 'Cass',\n",
              " 'Cat',\n",
              " 'Cecil',\n",
              " 'Chad',\n",
              " 'Chris',\n",
              " 'Chrissy',\n",
              " 'Christian',\n",
              " 'Christie',\n",
              " 'Christy',\n",
              " 'Clair',\n",
              " 'Claire',\n",
              " 'Clare',\n",
              " 'Claude',\n",
              " 'Clem',\n",
              " 'Clemmie',\n",
              " 'Cody',\n",
              " 'Connie',\n",
              " 'Constantine',\n",
              " 'Corey',\n",
              " 'Corrie',\n",
              " 'Cory',\n",
              " 'Courtney',\n",
              " 'Cris',\n",
              " 'Daffy',\n",
              " 'Dale',\n",
              " 'Dallas',\n",
              " 'Dana',\n",
              " 'Dani',\n",
              " 'Daniel',\n",
              " 'Dannie',\n",
              " 'Danny',\n",
              " 'Darby',\n",
              " 'Darcy',\n",
              " 'Darryl',\n",
              " 'Daryl',\n",
              " 'Deane',\n",
              " 'Del',\n",
              " 'Dell',\n",
              " 'Demetris',\n",
              " 'Dennie',\n",
              " 'Denny',\n",
              " 'Devin',\n",
              " 'Devon',\n",
              " 'Dion',\n",
              " 'Dionis',\n",
              " 'Dominique',\n",
              " 'Donnie',\n",
              " 'Donny',\n",
              " 'Dorian',\n",
              " 'Dory',\n",
              " 'Drew',\n",
              " 'Eddie',\n",
              " 'Eddy',\n",
              " 'Edie',\n",
              " 'Elisha',\n",
              " 'Emmy',\n",
              " 'Erin',\n",
              " 'Esme',\n",
              " 'Evelyn',\n",
              " 'Felice',\n",
              " 'Fran',\n",
              " 'Francis',\n",
              " 'Frank',\n",
              " 'Frankie',\n",
              " 'Franky',\n",
              " 'Fred',\n",
              " 'Freddie',\n",
              " 'Freddy',\n",
              " 'Gabriel',\n",
              " 'Gabriell',\n",
              " 'Gail',\n",
              " 'Gale',\n",
              " 'Gay',\n",
              " 'Gayle',\n",
              " 'Gene',\n",
              " 'George',\n",
              " 'Georgia',\n",
              " 'Georgie',\n",
              " 'Geri',\n",
              " 'Germaine',\n",
              " 'Gerri',\n",
              " 'Gerry',\n",
              " 'Gill',\n",
              " 'Ginger',\n",
              " 'Glen',\n",
              " 'Glenn',\n",
              " 'Grace',\n",
              " 'Gretchen',\n",
              " 'Gus',\n",
              " 'Haleigh',\n",
              " 'Haley',\n",
              " 'Hannibal',\n",
              " 'Harley',\n",
              " 'Hazel',\n",
              " 'Heath',\n",
              " 'Henrie',\n",
              " 'Hilary',\n",
              " 'Hillary',\n",
              " 'Holly',\n",
              " 'Ike',\n",
              " 'Ikey',\n",
              " 'Ira',\n",
              " 'Isa',\n",
              " 'Isador',\n",
              " 'Isadore',\n",
              " 'Jackie',\n",
              " 'Jaime',\n",
              " 'Jamie',\n",
              " 'Jan',\n",
              " 'Jean',\n",
              " 'Jere',\n",
              " 'Jermaine',\n",
              " 'Jerrie',\n",
              " 'Jerry',\n",
              " 'Jess',\n",
              " 'Jesse',\n",
              " 'Jessie',\n",
              " 'Jo',\n",
              " 'Jodi',\n",
              " 'Jodie',\n",
              " 'Jody',\n",
              " 'Joey',\n",
              " 'Jordan',\n",
              " 'Juanita',\n",
              " 'Jude',\n",
              " 'Judith',\n",
              " 'Judy',\n",
              " 'Julie',\n",
              " 'Justin',\n",
              " 'Karel',\n",
              " 'Kellen',\n",
              " 'Kelley',\n",
              " 'Kelly',\n",
              " 'Kelsey',\n",
              " 'Kerry',\n",
              " 'Kim',\n",
              " 'Kip',\n",
              " 'Kirby',\n",
              " 'Kit',\n",
              " 'Kris',\n",
              " 'Kyle',\n",
              " 'Lane',\n",
              " 'Lanny',\n",
              " 'Lauren',\n",
              " 'Laurie',\n",
              " 'Lee',\n",
              " 'Leigh',\n",
              " 'Leland',\n",
              " 'Lesley',\n",
              " 'Leslie',\n",
              " 'Lin',\n",
              " 'Lind',\n",
              " 'Lindsay',\n",
              " 'Lindsey',\n",
              " 'Lindy',\n",
              " 'Lonnie',\n",
              " 'Loren',\n",
              " 'Lorne',\n",
              " 'Lorrie',\n",
              " 'Lou',\n",
              " 'Luce',\n",
              " 'Lyn',\n",
              " 'Lynn',\n",
              " 'Maddie',\n",
              " 'Maddy',\n",
              " 'Marietta',\n",
              " 'Marion',\n",
              " 'Marlo',\n",
              " 'Martie',\n",
              " 'Marty',\n",
              " 'Mattie',\n",
              " 'Matty',\n",
              " 'Maurise',\n",
              " 'Max',\n",
              " 'Maxie',\n",
              " 'Mead',\n",
              " 'Meade',\n",
              " 'Mel',\n",
              " 'Meredith',\n",
              " 'Merle',\n",
              " 'Merrill',\n",
              " 'Merry',\n",
              " 'Meryl',\n",
              " 'Michal',\n",
              " 'Michel',\n",
              " 'Michele',\n",
              " 'Mickie',\n",
              " 'Micky',\n",
              " 'Millicent',\n",
              " 'Morgan',\n",
              " 'Morlee',\n",
              " 'Muffin',\n",
              " 'Nat',\n",
              " 'Nichole',\n",
              " 'Nickie',\n",
              " 'Nicky',\n",
              " 'Niki',\n",
              " 'Nikki',\n",
              " 'Noel',\n",
              " 'Ollie',\n",
              " 'Page',\n",
              " 'Paige',\n",
              " 'Pat',\n",
              " 'Patrice',\n",
              " 'Patsy',\n",
              " 'Pattie',\n",
              " 'Patty',\n",
              " 'Pen',\n",
              " 'Pennie',\n",
              " 'Penny',\n",
              " 'Perry',\n",
              " 'Phil',\n",
              " 'Pooh',\n",
              " 'Quentin',\n",
              " 'Quinn',\n",
              " 'Randi',\n",
              " 'Randie',\n",
              " 'Randy',\n",
              " 'Ray',\n",
              " 'Regan',\n",
              " 'Reggie',\n",
              " 'Rene',\n",
              " 'Rey',\n",
              " 'Ricki',\n",
              " 'Rickie',\n",
              " 'Ricky',\n",
              " 'Rikki',\n",
              " 'Robbie',\n",
              " 'Robin',\n",
              " 'Ronnie',\n",
              " 'Ronny',\n",
              " 'Rory',\n",
              " 'Ruby',\n",
              " 'Sal',\n",
              " 'Sam',\n",
              " 'Sammy',\n",
              " 'Sandy',\n",
              " 'Sascha',\n",
              " 'Sasha',\n",
              " 'Saundra',\n",
              " 'Sayre',\n",
              " 'Scotty',\n",
              " 'Sean',\n",
              " 'Shaine',\n",
              " 'Shane',\n",
              " 'Shannon',\n",
              " 'Shaun',\n",
              " 'Shawn',\n",
              " 'Shay',\n",
              " 'Shayne',\n",
              " 'Shea',\n",
              " 'Shelby',\n",
              " 'Shell',\n",
              " 'Shelley',\n",
              " 'Sibyl',\n",
              " 'Simone',\n",
              " 'Sonnie',\n",
              " 'Sonny',\n",
              " 'Stacy',\n",
              " 'Sunny',\n",
              " 'Sydney',\n",
              " 'Tabbie',\n",
              " 'Tabby',\n",
              " 'Tallie',\n",
              " 'Tally',\n",
              " 'Tammie',\n",
              " 'Tammy',\n",
              " 'Tate',\n",
              " 'Ted',\n",
              " 'Teddie',\n",
              " 'Teddy',\n",
              " 'Terri',\n",
              " 'Terry',\n",
              " 'Theo',\n",
              " 'Tim',\n",
              " 'Timmie',\n",
              " 'Timmy',\n",
              " 'Tobe',\n",
              " 'Tobie',\n",
              " 'Toby',\n",
              " 'Tommie',\n",
              " 'Tommy',\n",
              " 'Tony',\n",
              " 'Torey',\n",
              " 'Trace',\n",
              " 'Tracey',\n",
              " 'Tracie',\n",
              " 'Tracy',\n",
              " 'Val',\n",
              " 'Vale',\n",
              " 'Valentine',\n",
              " 'Van',\n",
              " 'Vin',\n",
              " 'Vinnie',\n",
              " 'Vinny',\n",
              " 'Virgie',\n",
              " 'Wallie',\n",
              " 'Wallis',\n",
              " 'Wally',\n",
              " 'Whitney',\n",
              " 'Willi',\n",
              " 'Willie',\n",
              " 'Willy',\n",
              " 'Winnie',\n",
              " 'Winny',\n",
              " 'Wynn']"
            ]
          },
          "execution_count": 32,
          "metadata": {},
          "output_type": "execute_result"
        }
      ],
      "source": [
        "male_names = names.words('male.txt')\n",
        "female_names = names.words('female.txt')\n",
        "[w for w in male_names if w in female_names]"
      ]
    },
    {
      "cell_type": "code",
      "execution_count": null,
      "metadata": {},
      "outputs": [],
      "source": [
        "male_names = names.words('male.txt')\n",
        "female_names = names.words('female.txt')\n",
        "[w for w in male_names if w in female_names]"
      ]
    },
    {
      "cell_type": "markdown",
      "metadata": {},
      "source": [
        "['Abbey',\n",
        " 'Abbie',\n",
        " 'Abby',\n",
        " 'Addie',\n",
        " 'Adrian',\n",
        " 'Adrien',\n",
        " 'Ajay',\n",
        " 'Alex',\n",
        " 'Alexis',\n",
        " 'Alfie',\n",
        " 'Ali',\n",
        " 'Alix',\n",
        " 'Allie',\n",
        " 'Allyn',\n",
        " 'Andie',\n",
        " 'Andrea',\n",
        " 'Andy',\n",
        " 'Angel',\n",
        " 'Angie',\n",
        " 'Ariel',\n",
        " 'Ashley',\n",
        " 'Aubrey',\n",
        " 'Augustine',\n",
        " 'Austin',\n",
        " 'Averil',\n",
        " 'Barrie',\n",
        " 'Barry',\n",
        " 'Beau',\n",
        " 'Bennie',\n",
        " 'Benny',\n",
        " 'Bernie',\n",
        " 'Bert',\n",
        " 'Bertie',\n",
        " 'Bill',\n",
        " 'Billie',\n",
        " 'Billy',\n",
        " 'Blair',\n",
        " 'Blake',\n",
        " 'Bo',\n",
        " 'Bobbie',\n",
        " 'Bobby',\n",
        " 'Brandy',\n",
        " 'Brett',\n",
        " 'Britt',\n",
        " 'Brook',\n",
        " 'Brooke',\n",
        " 'Brooks',\n",
        " 'Bryn',\n",
        " 'Cal',\n",
        " ...]"
      ]
    },
    {
      "cell_type": "markdown",
      "metadata": {},
      "source": [
        "## 透過 matplotlib 來繪製折線圖:\n",
        "### 可得知普遍來說英文名字結尾為a的大部分都是女生\n",
        "(name[-1]為名字的最後一個字母)"
      ]
    },
    {
      "cell_type": "code",
      "execution_count": 42,
      "metadata": {
        "scrolled": true
      },
      "outputs": [
        {
          "data": {
            "image/png": "[encoded data removed]",
            "text/plain": [
              "<matplotlib.figure.Figure at 0x7fd8ae2d7400>"
            ]
          },
          "metadata": {},
          "output_type": "display_data"
        }
      ],
      "source": [
        "from matplotlib import pylab\n",
        "\n",
        "cfd = nltk.ConditionalFreqDist(\n",
        "            (fileid, name[-1])\n",
        "            for fileid in names.fileids()\n",
        "            for name in names.words(fileid))\n",
        "cfd.plot()\n",
        "# print(cfd['female.txt']['a'])"
      ]
    },
    {
      "cell_type": "markdown",
      "metadata": {},
      "source": [
        "### 這張圖告訴我們男性與女性名字結尾的字母分布，可以看出女性名字大多以a、e及i結尾；男性名字大多為k、o、r、s及t結尾；h及l結為則較為模糊。"
      ]
    },
    {
      "cell_type": "markdown",
      "metadata": {},
      "source": [
        "## 4.2   A Pronouncing Dictionary"
      ]
    },
    {
      "cell_type": "markdown",
      "metadata": {},
      "source": [
        "### NLTK 有為語音合成器設計一個CMU發音辭典，內含133737組發音，以下列出其中8組來展示。"
      ]
    },
    {
      "cell_type": "code",
      "execution_count": 45,
      "metadata": {},
      "outputs": [
        {
          "data": {
            "text/plain": [
              "133737"
            ]
          },
          "execution_count": 45,
          "metadata": {},
          "output_type": "execute_result"
        }
      ],
      "source": [
        "entries = nltk.corpus.cmudict.entries()\n",
        "len(entries)"
      ]
    },
    {
      "cell_type": "markdown",
      "metadata": {},
      "source": [
        "### 由於某些單詞可能會有兩個不同的發音法，像是\"fire\"能讀作：單音節F AY1 R 或 雙音節F AY1 ER0。\n",
        "### 這些符號的是由Arpabet來制定，詳細請見參考: http://en.wikipedia.org/wiki/Arpabet"
      ]
    },
    {
      "cell_type": "code",
      "execution_count": 46,
      "metadata": {},
      "outputs": [
        {
          "name": "stdout",
          "output_type": "stream",
          "text": [
            "('fir', ['F', 'ER1'])\n",
            "('fire', ['F', 'AY1', 'ER0'])\n",
            "('fire', ['F', 'AY1', 'R'])\n",
            "('firearm', ['F', 'AY1', 'ER0', 'AA2', 'R', 'M'])\n",
            "('firearm', ['F', 'AY1', 'R', 'AA2', 'R', 'M'])\n",
            "('firearms', ['F', 'AY1', 'ER0', 'AA2', 'R', 'M', 'Z'])\n",
            "('firearms', ['F', 'AY1', 'R', 'AA2', 'R', 'M', 'Z'])\n",
            "('fireball', ['F', 'AY1', 'ER0', 'B', 'AO2', 'L'])\n"
          ]
        }
      ],
      "source": [
        "for entry in entries[42371:42379]:\n",
        "    print(entry)"
      ]
    },
    {
      "cell_type": "markdown",
      "metadata": {},
      "source": [
        "### 再將entries拆成word及pron兩個部分，pron表示總共分為幾個音節。\n",
        "### 以下列出音節數3個且以\"P\"開頭及\"T\"結尾的word，並分別以ph1、ph2、ph3表示。"
      ]
    },
    {
      "cell_type": "code",
      "execution_count": 48,
      "metadata": {},
      "outputs": [
        {
          "name": "stdout",
          "output_type": "stream",
          "text": [
            "pait EY1 pat AE1 pate EY1 patt AE1 peart ER1 peat IY1 peet IY1 peete IY1 pert ER1 pet EH1 pete IY1 pett EH1 piet IY1 piette IY1 pit IH1 pitt IH1 pot AA1 pote OW1 pott AA1 pout AW1 puett UW1 purt ER1 put UH1 putt AH1 "
          ]
        }
      ],
      "source": [
        "for word, pron in entries:\n",
        "    if len(pron) == 3:\n",
        "        ph1, ph2, ph3 = pron\n",
        "        if ph1 == 'P' and ph3 == 'T':\n",
        "            print(word, ph2, end=' ')"
      ]
    },
    {
      "cell_type": "markdown",
      "metadata": {},
      "source": [
        "### 試著列出結尾音為\"nicks\"發音的詞:"
      ]
    },
    {
      "cell_type": "code",
      "execution_count": null,
      "metadata": {},
      "outputs": [],
      "source": [
        "syllable = ['N', 'IH0', 'K', 'S']\n",
        "[word for word, pron in entries if pron[-4:] == syllable]"
      ]
    },
    {
      "cell_type": "markdown",
      "metadata": {},
      "source": [
        "[\"atlantic's\",\n",
        " 'audiotronics',\n",
        " 'avionics',\n",
        " 'beatniks',\n",
        " 'calisthenics',\n",
        " 'centronics',\n",
        " 'chamonix',\n",
        " 'chetniks',\n",
        " \"clinic's\",\n",
        " 'clinics',\n",
        " 'conics',\n",
        " 'conics',\n",
        " 'cryogenics',\n",
        " 'cynics',\n",
        " 'diasonics',\n",
        " \"dominic's\",\n",
        " 'ebonics',\n",
        " 'electronics',\n",
        " \"electronics'\",\n",
        " \"endotronics'\",\n",
        " 'endotronics',\n",
        " 'enix',\n",
        " 'environics',\n",
        " 'ethnics',\n",
        " 'eugenics',\n",
        " 'fibronics',\n",
        " 'flextronics',\n",
        " 'harmonics',\n",
        " 'hispanics',\n",
        " 'histrionics',\n",
        " 'identics',\n",
        " 'ionics',\n",
        " 'kibbutzniks',\n",
        " 'lasersonics',\n",
        " 'lumonics',\n",
        " ...]"
      ]
    },
    {
      "cell_type": "markdown",
      "metadata": {},
      "source": [
        "#### 可以發現word的結尾不盡相同，有nics、niks、nix，甚至是ntic's (e.g. atlantic's)。"
      ]
    },
    {
      "cell_type": "markdown",
      "metadata": {},
      "source": [
        "#### 更多例子:"
      ]
    },
    {
      "cell_type": "code",
      "execution_count": 50,
      "metadata": {},
      "outputs": [
        {
          "data": {
            "text/plain": [
              "['autumn', 'column', 'condemn', 'damn', 'goddamn', 'hymn', 'solemn']"
            ]
          },
          "execution_count": 50,
          "metadata": {},
          "output_type": "execute_result"
        }
      ],
      "source": [
        "[w for w, pron in entries if pron[-1] == 'M' and w[-1] == 'n']"
      ]
    },
    {
      "cell_type": "code",
      "execution_count": 51,
      "metadata": {},
      "outputs": [
        {
          "data": {
            "text/plain": [
              "['gn', 'kn', 'mn', 'pn']"
            ]
          },
          "execution_count": 51,
          "metadata": {},
          "output_type": "execute_result"
        }
      ],
      "source": [
        "sorted(set(w[:2] for w, pron in entries if pron[0] == 'N' and w[0] != 'n'))"
      ]
    },
    {
      "cell_type": "markdown",
      "metadata": {},
      "source": [
        "### 根據給定的音節數及重音位置找出對應的words。\n",
        "primary stress (1), secondary stress (2) and no stress (0)"
      ]
    },
    {
      "cell_type": "code",
      "execution_count": 53,
      "metadata": {},
      "outputs": [],
      "source": [
        "def stress(pron):\n",
        "    return [char for phone in pron for char in phone if char.isdigit()]"
      ]
    },
    {
      "cell_type": "code",
      "execution_count": null,
      "metadata": {},
      "outputs": [],
      "source": [
        "[w for w, pron in entries if stress(pron) == ['0', '1', '0', '2', '0']]"
      ]
    },
    {
      "cell_type": "markdown",
      "metadata": {},
      "source": [
        "['abbreviated',\n",
        " 'abbreviated',\n",
        " 'abbreviating',\n",
        " 'accelerated',\n",
        " 'accelerating',\n",
        " 'accelerator',\n",
        " 'accelerators',\n",
        " 'accentuated',\n",
        " 'accentuating',\n",
        " 'accommodated',\n",
        " 'accommodating',\n",
        " 'accommodative',\n",
        " 'accumulated',\n",
        " 'accumulating',\n",
        " 'accumulative',\n",
        " 'accumulator',\n",
        " 'accumulators',\n",
        " 'accusatory',\n",
        " 'adenovirus',\n",
        " 'adjudicated',\n",
        " 'adjudicating',\n",
        " 'administrating',\n",
        " 'administrative',\n",
        " 'administrator',\n",
        " \"administrators'\",\n",
        " \"administrator's\",\n",
        " 'administrators',\n",
        " 'adulterated',\n",
        " 'adventurism',\n",
        " 'adventurism',\n",
        " 'affiliated',\n",
        " 'affiliated',\n",
        " \"affiliated's\",\n",
        " 'affiliating',\n",
        " 'alleviated',\n",
        " 'alleviated',\n",
        " 'alleviating',\n",
        " 'alliteration',\n",
        " 'alliterative',\n",
        " 'amalgamated',\n",
        " \"amalgamated's\",\n",
        " 'amalgamating',\n",
        " 'ameliorated',\n",
        " 'ameridata',\n",
        " 'amoxicillin',\n",
        " 'anachronism',\n",
        " 'anachronisms',\n",
        " 'annihilated',\n",
        " 'annihilating',\n",
        " 'antagonism',\n",
        " 'antagonisms',\n",
        " 'antagonizing',\n",
        " 'anticipated',\n",
        " 'anticipated',\n",
        " 'anticipating',\n",
        " 'apologizes',\n",
        " 'apologizing',\n",
        " 'apothecary',\n",
        " 'appreciated',\n",
        " 'appreciating',\n",
        " 'appreciative',\n",
        " 'appropriated',\n",
        " 'appropriating',\n",
        " 'appropriator',\n",
        " 'appropriators',\n",
        " 'approximated',\n",
        " 'approximating',\n",
        " 'articulated',\n",
        " 'articulating',\n",
        " ...]"
      ]
    },
    {
      "cell_type": "code",
      "execution_count": null,
      "metadata": {},
      "outputs": [],
      "source": [
        "[w for w, pron in entries if stress(pron) == ['0', '2', '0', '1', '0']]"
      ]
    },
    {
      "cell_type": "markdown",
      "metadata": {},
      "source": [
        "['abbreviation',\n",
        " 'abbreviations',\n",
        " 'abomination',\n",
        " 'abortifacient',\n",
        " 'abortifacients',\n",
        " 'academicians',\n",
        " 'accommodation',\n",
        " 'accommodations',\n",
        " 'accreditation',\n",
        " 'accreditations',\n",
        " 'accumulation',\n",
        " 'accumulations',\n",
        " 'acetylcholine',\n",
        " 'acetylcholine',\n",
        " 'adjudication',\n",
        " 'administration',\n",
        " \"administration's\",\n",
        " 'administrations',\n",
        " \"administrations'\",\n",
        " 'aduliadae',\n",
        " 'adulteration',\n",
        " 'affiliation',\n",
        " 'affiliations',\n",
        " 'aficionados',\n",
        " 'agglomeration',\n",
        " 'ahasuerus',\n",
        " 'ajinomoto',\n",
        " 'alleviation',\n",
        " 'amalgamation',\n",
        " 'ambrosiano',\n",
        " 'amelioration',\n",
        " 'americana',\n",
        " \"americana's\",\n",
        " 'americanas',\n",
        " 'americano',\n",
        " 'americanos',\n",
        " 'anachronistic',\n",
        " 'anencephalic',\n",
        " 'annihilation',\n",
        " 'antagonistic',\n",
        " 'anticipation',\n",
        " 'anticipations',\n",
        " 'apocalyptic',\n",
        " 'apologetic',\n",
        " 'apotheosis',\n",
        " 'appreciation',\n",
        " 'appropriation',\n",
        " 'appropriations',\n",
        " 'approximation',\n",
        " 'approximations',\n",
        " 'aristocratic',\n",
        " 'arunachalam',\n",
        " 'assassination',\n",
        " 'assassinations',\n",
        " 'assimilation',\n",
        " 'association',\n",
        " 'association',\n",
        " 'associations',\n",
        " \"association's\",\n",
        " 'associations',\n",
        " 'authentication',\n",
        " 'authentications',\n",
        " 'bancoklahoma',\n",
        " 'biagioni',\n",
        " 'boguslavskaya',\n",
        " 'bollapragada',\n",
        " 'bollettieri',\n",
        " 'burkina-faso',\n",
        " \"burkina-faso's\",\n",
        " 'canariensis',\n",
        " 'capitulation',\n",
        " 'cartusciello',\n",
        " ...]"
      ]
    },
    {
      "cell_type": "markdown",
      "metadata": {},
      "source": [
        "### 也可以利用條件頻率分布(conditional frequency distribution)來搜尋對應的words。\n",
        "#### 以下列出三個音節且以\"P\"開頭的words，並根據不同的結尾音來分組:"
      ]
    },
    {
      "cell_type": "code",
      "execution_count": 59,
      "metadata": {},
      "outputs": [
        {
          "name": "stdout",
          "output_type": "stream",
          "text": [
            "P-CH patch pautsch peach perch petsch petsche piche piech pietsch pitch pit...\n",
            "P-K pac pack paek paik pak pake paque peak peake pech peck peek perc perk ...\n",
            "P-L pahl pail paille pal pale pall paul paule paull peal peale pearl pearl...\n",
            "P-N paign pain paine pan pane pawn payne peine pen penh penn pin pine pinn...\n",
            "P-P paap paape pap pape papp paup peep pep pip pipe pipp poop pop pope pop...\n",
            "P-R paar pair par pare parr pear peer pier poor poore por pore porr pour...\n",
            "P-S pace pass pasts peace pearse pease perce pers perse pesce piece piss p...\n",
            "P-T pait pat pate patt peart peat peet peete pert pet pete pett piet piett...\n",
            "P-UW1 peru peugh pew plew plue prew pru prue prugh pshew pugh...\n",
            "P-Z p's p.'s p.s pais paiz pao's pas pause paws pays paz peas pease pei's ...\n"
          ]
        }
      ],
      "source": [
        "p3 = [(pron[0]+'-'+pron[2], word)\n",
        "    for (word, pron) in entries\n",
        "        if pron[0] == 'P' and len(pron) == 3]\n",
        "\n",
        "cfd = nltk.ConditionalFreqDist(p3)\n",
        "for template in sorted(cfd.conditions()):\n",
        "    if len(cfd[template]) > 10:\n",
        "        words = sorted(cfd[template])\n",
        "        wordstring = ' '.join(words)\n",
        "        print(template, wordstring[:70] + \"...\")"
      ]
    },
    {
      "cell_type": "markdown",
      "metadata": {},
      "source": [
        "### 除了透過迴圈列出所有的符合的words之外，也可以查詢特定word的發音。"
      ]
    },
    {
      "cell_type": "code",
      "execution_count": 61,
      "metadata": {},
      "outputs": [
        {
          "data": {
            "text/plain": [
              "[['F', 'AY1', 'ER0'], ['F', 'AY1', 'R']]"
            ]
          },
          "execution_count": 61,
          "metadata": {},
          "output_type": "execute_result"
        }
      ],
      "source": [
        "prondict = nltk.corpus.cmudict.dict()\n",
        "prondict['fire']"
      ]
    },
    {
      "cell_type": "markdown",
      "metadata": {},
      "source": [
        "### 如果發現欲查詢的word並不存在pronouncing dictionary中，則會發生KeyError。"
      ]
    },
    {
      "cell_type": "code",
      "execution_count": 62,
      "metadata": {},
      "outputs": [
        {
          "ename": "KeyError",
          "evalue": "'blog'",
          "output_type": "error",
          "traceback": [
            "\u001b[0;31m---------------------------------------------------------------------------\u001b[0m",
            "\u001b[0;31mKeyError\u001b[0m                                  Traceback (most recent call last)",
            "\u001b[0;32m<ipython-input-62-f0ffb282ba9a>\u001b[0m in \u001b[0;36m<module>\u001b[0;34m()\u001b[0m\n\u001b[0;32m----> 1\u001b[0;31m \u001b[0mprondict\u001b[0m\u001b[0;34m[\u001b[0m\u001b[0;34m'blog'\u001b[0m\u001b[0;34m]\u001b[0m\u001b[0;34m\u001b[0m\u001b[0m\n\u001b[0m",
            "\u001b[0;31mKeyError\u001b[0m: 'blog'"
          ]
        }
      ],
      "source": [
        "prondict['blog']"
      ]
    },
    {
      "cell_type": "markdown",
      "metadata": {},
      "source": [
        "### 可以透過手動的方式新增\"blog\"這個word\n",
        "但並不影響NLTK的文集，下次開啟時blog將會消失在pronouncing dictionary中"
      ]
    },
    {
      "cell_type": "code",
      "execution_count": 63,
      "metadata": {},
      "outputs": [
        {
          "data": {
            "text/plain": [
              "[['B', 'L', 'AA1', 'G']]"
            ]
          },
          "execution_count": 63,
          "metadata": {},
          "output_type": "execute_result"
        }
      ],
      "source": [
        "prondict['blog'] = [['B', 'L', 'AA1', 'G']]\n",
        "prondict['blog']"
      ]
    },
    {
      "cell_type": "markdown",
      "metadata": {},
      "source": [
        "#### 每個詞可能有很多種詞性變化，若再加上prondict[w][0] 限制則只列出當前輸入的詞性發音。"
      ]
    },
    {
      "cell_type": "code",
      "execution_count": 68,
      "metadata": {},
      "outputs": [
        {
          "data": {
            "text/plain": [
              "['N',\n",
              " 'AE1',\n",
              " 'CH',\n",
              " 'ER0',\n",
              " 'AH0',\n",
              " 'L',\n",
              " 'L',\n",
              " 'AE1',\n",
              " 'NG',\n",
              " 'G',\n",
              " 'W',\n",
              " 'AH0',\n",
              " 'JH',\n",
              " 'P',\n",
              " 'R',\n",
              " 'AA1',\n",
              " 'S',\n",
              " 'EH0',\n",
              " 'S',\n",
              " 'IH0',\n",
              " 'NG']"
            ]
          },
          "execution_count": 68,
          "metadata": {},
          "output_type": "execute_result"
        }
      ],
      "source": [
        "text = ['natural', 'language', 'processing']\n",
        "[ph for w in text for ph in prondict[w][0]]\n",
        "# [ph for w in text for ph in prondict[w]]"
      ]
    },
    {
      "cell_type": "markdown",
      "metadata": {},
      "source": [
        "## 4.3   Comparative Wordlists"
      ]
    },
    {
      "cell_type": "markdown",
      "metadata": {},
      "source": [
        "### NLTK 也有包含所謂的Swadesh wordlists，以多種語言列出大約200個常用詞且使用ISO 639 雙字母代碼來識別。"
      ]
    },
    {
      "cell_type": "code",
      "execution_count": 72,
      "metadata": {},
      "outputs": [
        {
          "data": {
            "text/plain": [
              "['be',\n",
              " 'bg',\n",
              " 'bs',\n",
              " 'ca',\n",
              " 'cs',\n",
              " 'cu',\n",
              " 'de',\n",
              " 'en',\n",
              " 'es',\n",
              " 'fr',\n",
              " 'hr',\n",
              " 'it',\n",
              " 'la',\n",
              " 'mk',\n",
              " 'nl',\n",
              " 'pl',\n",
              " 'pt',\n",
              " 'ro',\n",
              " 'ru',\n",
              " 'sk',\n",
              " 'sl',\n",
              " 'sr',\n",
              " 'sw',\n",
              " 'uk']"
            ]
          },
          "execution_count": 72,
          "metadata": {},
          "output_type": "execute_result"
        }
      ],
      "source": [
        "from nltk.corpus import swadesh\n",
        "swadesh.fileids()"
      ]
    },
    {
      "cell_type": "markdown",
      "metadata": {},
      "source": [
        "此列表為國家代碼"
      ]
    },
    {
      "cell_type": "code",
      "execution_count": null,
      "metadata": {},
      "outputs": [],
      "source": [
        "swadesh.words('en')"
      ]
    },
    {
      "cell_type": "markdown",
      "metadata": {},
      "source": [
        "['I',\n",
        " 'you (singular), thou',\n",
        " 'he',\n",
        " 'we',\n",
        " 'you (plural)',\n",
        " 'they',\n",
        " 'this',\n",
        " 'that',\n",
        " 'here',\n",
        " 'there',\n",
        " 'who',\n",
        " 'what',\n",
        " 'where',\n",
        " 'when',\n",
        " 'how',\n",
        " 'not',\n",
        " 'all',\n",
        " 'many',\n",
        " 'some',\n",
        " 'few',\n",
        " 'other',\n",
        " 'one',\n",
        " 'two',\n",
        " 'three',\n",
        " 'four',\n",
        " 'five',\n",
        " 'big',\n",
        " 'long',\n",
        " 'wide',\n",
        " 'thick',\n",
        " 'heavy',\n",
        " 'small',\n",
        " 'short',\n",
        " 'narrow',\n",
        " 'thin',\n",
        " 'woman',\n",
        " 'man (adult male)',\n",
        " 'man (human being)',\n",
        " 'child',\n",
        " 'wife',\n",
        " 'husband',\n",
        " 'mother',\n",
        " 'father',\n",
        " 'animal',\n",
        " 'fish',\n",
        " 'bird',\n",
        " 'dog',\n",
        " 'louse',\n",
        " 'snake',\n",
        " 'worm',\n",
        " 'tree',\n",
        " 'forest',\n",
        " 'stick',\n",
        " 'fruit',\n",
        " 'seed',\n",
        " 'leaf',\n",
        " 'root',\n",
        " 'bark (from tree)',\n",
        " 'flower',\n",
        " ...]"
      ]
    },
    {
      "cell_type": "markdown",
      "metadata": {},
      "source": [
        "列出英文的常用詞"
      ]
    },
    {
      "cell_type": "code",
      "execution_count": null,
      "metadata": {},
      "outputs": [],
      "source": [
        "fr2en = swadesh.entries(['fr', 'en'])\n",
        "fr2en"
      ]
    },
    {
      "cell_type": "markdown",
      "metadata": {},
      "source": [
        "[('je', 'I'),\n",
        " ('tu, vous', 'you (singular), thou'),\n",
        " ('il', 'he'),\n",
        " ('nous', 'we'),\n",
        " ('vous', 'you (plural)'),\n",
        " ('ils, elles', 'they'),\n",
        " ('ceci', 'this'),\n",
        " ('cela', 'that'),\n",
        " ('ici', 'here'),\n",
        " ('là', 'there'),\n",
        " ('qui', 'who'),\n",
        " ('quoi', 'what'),\n",
        " ('où', 'where'),\n",
        " ('quand', 'when'),\n",
        " ('comment', 'how'),\n",
        " ('ne...pas', 'not'),\n",
        " ('tout', 'all'),\n",
        " ('plusieurs', 'many'),\n",
        " ('quelques', 'some'),\n",
        " ('peu', 'few'),\n",
        " ('autre', 'other'),\n",
        " ('un', 'one'),\n",
        " ('deux', 'two'),\n",
        " ('trois', 'three'),\n",
        " ('quatre', 'four'),\n",
        " ('cinq', 'five'),\n",
        " ('grand', 'big'),\n",
        " ('long', 'long'),\n",
        " ('large', 'wide'),\n",
        " ('épais', 'thick'),\n",
        " ('lourd', 'heavy'),\n",
        " ('petit', 'small'),\n",
        " ('court', 'short'),\n",
        " ('étroit', 'narrow'),\n",
        " ('mince', 'thin'),\n",
        " ('femme', 'woman'),\n",
        " ('homme', 'man (adult male)'),\n",
        " ('homme', 'man (human being)'),\n",
        " ('enfant', 'child'),\n",
        " ('femme, épouse', 'wife'),\n",
        " ('mari, époux', 'husband'),\n",
        " ('mère', 'mother'),\n",
        " ('père', 'father'),\n",
        " ('animal', 'animal'),\n",
        " ('poisson', 'fish'),\n",
        " ('oiseau', 'bird'),\n",
        " ('chien', 'dog'),\n",
        " ('pou', 'louse'),\n",
        " ('serpent', 'snake'),\n",
        " ('ver', 'worm'),\n",
        " ('arbre', 'tree'),\n",
        " ('forêt', 'forest'),\n",
        " ('bâton', 'stick'),\n",
        " ('fruit', 'fruit'),\n",
        " ('graine', 'seed'),\n",
        " ('feuille', 'leaf'),\n",
        " ('racine', 'root'),\n",
        " ('écorce', 'bark (from tree)'),\n",
        " ('fleur', 'flower'),\n",
        " ('herbe', 'grass'),\n",
        " ('corde', 'rope'),\n",
        " ('peau', 'skin'),\n",
        " ('viande', 'meat'),\n",
        " ('sang', 'blood'),\n",
        " ('os', 'bone'),\n",
        " ('graisse', 'fat (noun)'),\n",
        " ('œuf', 'egg'),\n",
        " ('corne', 'horn'),\n",
        " ('queue', 'tail'),\n",
        " ('plume', 'feather'),\n",
        " ('cheveu', 'hair'),\n",
        " ('tête', 'head'),\n",
        " ('oreille', 'ear'),\n",
        " ('œil', 'eye'),\n",
        " ('nez', 'nose'),\n",
        " ('bouche', 'mouth'),\n",
        " ('dent', 'tooth'),\n",
        " ('langue', 'tongue'),\n",
        " ('ongle', 'fingernail'),\n",
        " ('pied', 'foot'),\n",
        " ('jambe', 'leg'),\n",
        " ('genou', 'knee'),\n",
        " ('main', 'hand'),\n",
        " ('aile', 'wing'),\n",
        " ('ventre', 'belly'),\n",
        " ('entrailles', 'guts'),\n",
        " ('cou', 'neck'),\n",
        " ('dos', 'back'),\n",
        " ('sein, poitrine', 'breast'),\n",
        " ('cœur', 'heart'),\n",
        " ('foie', 'liver'),\n",
        " ('boire', 'drink'),\n",
        " ('manger', 'eat'),\n",
        " ('mordre', 'bite'),\n",
        " ('sucer', 'suck'),\n",
        " ('cracher', 'spit'),\n",
        " ('vomir', 'vomit'),\n",
        " ('souffler', 'blow'),\n",
        " ('respirer', 'breathe'),\n",
        " ('rire', 'laugh'),\n",
        " ('voir', 'see'),\n",
        " ('entendre', 'hear'),\n",
        " ('savoir', 'know (a fact)'),\n",
        " ('penser', 'think'),\n",
        " ('sentir', 'smell'),\n",
        " ('craindre, avoir peur', 'fear'),\n",
        " ('dormir', 'sleep'),\n",
        " ('vivre', 'live'),\n",
        " ('mourir', 'die'),\n",
        " ('tuer', 'kill'),\n",
        " ('se battre', 'fight'),\n",
        " ('chasser', 'hunt'),\n",
        " ('frapper', 'hit'),\n",
        " ('couper', 'cut'),\n",
        " ('fendre', 'split'),\n",
        " ('poignarder', 'stab'),\n",
        " ('gratter', 'scratch'),\n",
        " ('creuser', 'dig'),\n",
        " ('nager', 'swim'),\n",
        " ('voler', 'fly (verb)'),\n",
        " ('marcher', 'walk'),\n",
        " ('venir', 'come'),\n",
        " (\"s'étendre\", 'lie'),\n",
        " (\"s'asseoir\", 'sit'),\n",
        " ('se lever', 'stand'),\n",
        " ('tourner', 'turn'),\n",
        " ('tomber', 'fall'),\n",
        " ('donner', 'give'),\n",
        " ('tenir', 'hold'),\n",
        " ('serrer', 'squeeze'),\n",
        " ('frotter', 'rub'),\n",
        " ('laver', 'wash'),\n",
        " ('essuyer', 'wipe'),\n",
        " ('tirer', 'pull'),\n",
        " ('pousser', 'push'),\n",
        " ('jeter', 'throw'),\n",
        " ('lier', 'tie'),\n",
        " ('coudre', 'sew'),\n",
        " ('compter', 'count'),\n",
        " ('dire', 'say'),\n",
        " ('chanter', 'sing'),\n",
        " ('jouer', 'play'),\n",
        " ('flotter', 'float'),\n",
        " ('couler', 'flow'),\n",
        " ('geler', 'freeze'),\n",
        " ('gonfler', 'swell'),\n",
        " ('soleil', 'sun'),\n",
        " ('lune', 'moon'),\n",
        " ('étoile', 'star'),\n",
        " ('eau', 'water'),\n",
        " ('pluie', 'rain'),\n",
        " ('rivière', 'river'),\n",
        " ('lac', 'lake'),\n",
        " ...]"
      ]
    },
    {
      "cell_type": "markdown",
      "metadata": {},
      "source": [
        "列出法文(fr)與英文(en)常用詞的對照表"
      ]
    },
    {
      "cell_type": "code",
      "execution_count": 81,
      "metadata": {},
      "outputs": [
        {
          "data": {
            "text/plain": [
              "'dog'"
            ]
          },
          "execution_count": 81,
          "metadata": {},
          "output_type": "execute_result"
        }
      ],
      "source": [
        "translate = dict(fr2en)\n",
        "translate['chien']"
      ]
    },
    {
      "cell_type": "code",
      "execution_count": 82,
      "metadata": {},
      "outputs": [
        {
          "data": {
            "text/plain": [
              "'throw'"
            ]
          },
          "execution_count": 82,
          "metadata": {},
          "output_type": "execute_result"
        }
      ],
      "source": [
        "translate['jeter']"
      ]
    },
    {
      "cell_type": "markdown",
      "metadata": {},
      "source": [
        "也可以對單獨的word進行轉換"
      ]
    },
    {
      "cell_type": "markdown",
      "metadata": {},
      "source": [
        "### 可以將多個語言同時轉換成指定的語言，並將這些轉換加入到我們原始的translate dictionary中。"
      ]
    },
    {
      "cell_type": "code",
      "execution_count": 85,
      "metadata": {},
      "outputs": [],
      "source": [
        "de2en = swadesh.entries(['de', 'en'])    # German-English\n",
        "es2en = swadesh.entries(['es', 'en'])    # Spanish-English\n",
        "translate.update(dict(de2en))\n",
        "translate.update(dict(es2en))"
      ]
    },
    {
      "cell_type": "code",
      "execution_count": 86,
      "metadata": {},
      "outputs": [
        {
          "data": {
            "text/plain": [
              "'dog'"
            ]
          },
          "execution_count": 86,
          "metadata": {},
          "output_type": "execute_result"
        }
      ],
      "source": [
        "translate['Hund']"
      ]
    },
    {
      "cell_type": "code",
      "execution_count": 87,
      "metadata": {},
      "outputs": [
        {
          "data": {
            "text/plain": [
              "'dog'"
            ]
          },
          "execution_count": 87,
          "metadata": {},
          "output_type": "execute_result"
        }
      ],
      "source": [
        "translate['perro']"
      ]
    },
    {
      "cell_type": "markdown",
      "metadata": {},
      "source": [
        "### 根據代碼列出意義相同但不同語言的word。"
      ]
    },
    {
      "cell_type": "code",
      "execution_count": 91,
      "metadata": {},
      "outputs": [
        {
          "name": "stdout",
          "output_type": "stream",
          "text": [
            "('say', 'sagen', 'zeggen', 'decir', 'dire', 'dizer', 'dicere')\n",
            "('sing', 'singen', 'zingen', 'cantar', 'chanter', 'cantar', 'canere')\n",
            "('play', 'spielen', 'spelen', 'jugar', 'jouer', 'jogar, brincar', 'ludere')\n",
            "('float', 'schweben', 'zweven', 'flotar', 'flotter', 'flutuar, boiar', 'fluctuare')\n"
          ]
        }
      ],
      "source": [
        "languages = ['en', 'de', 'nl', 'es', 'fr', 'pt', 'la']\n",
        "\n",
        "for i in [139, 140, 141, 142]:\n",
        "    print(swadesh.entries(languages)[i])"
      ]
    },
    {
      "cell_type": "markdown",
      "metadata": {},
      "source": [
        "## 4.4   Shoebox and Toolbox Lexicons"
      ]
    },
    {
      "cell_type": "markdown",
      "metadata": {},
      "source": [
        "### Toolbox中包含許多語言，以下列出Rotokas language(spoken on the island of Bougainville,  Papua New Guinea) 的內容。"
      ]
    },
    {
      "cell_type": "code",
      "execution_count": null,
      "metadata": {},
      "outputs": [],
      "source": [
        "from nltk.corpus import toolbox\n",
        "toolbox.entries('rotokas.dic')"
      ]
    },
    {
      "cell_type": "markdown",
      "metadata": {},
      "source": [
        "[('kaa',\n",
        "  [('ps', 'V'),\n",
        "   ('pt', 'A'),\n",
        "   ('ge', 'gag'),\n",
        "   ('tkp', 'nek i pas'),\n",
        "   ('dcsv', 'true'),\n",
        "   ('vx', '1'),\n",
        "   ('sc', '???'),\n",
        "   ('dt', '29/Oct/2005'),\n",
        "   ('ex', 'Apoka ira kaaroi aioa-ia reoreopaoro.'),\n",
        "   ('xp', 'Kaikai i pas long nek bilong Apoka bikos em i kaikai na toktok.'),\n",
        "   ('xe', 'Apoka is gagging from food while talking.')]),\n",
        " ('kaa',\n",
        "  [('ps', 'V'),\n",
        "   ('pt', 'B'),\n",
        "   ('ge', 'strangle'),\n",
        "   ('tkp', 'pasim nek'),\n",
        "   ('arg', 'O'),\n",
        "   ('vx', '2'),\n",
        "   ('dt', '07/Oct/2006'),\n",
        "   ('ex', 'Rera rauroro rera kaarevoi.'),\n",
        "   ('xp', 'Em i holim pas em na nekim em.'),\n",
        "   ('xe', 'He is holding him and strangling him.'),\n",
        "   ('ex', 'Iroiro-ia oirato okoearo kaaivoi uvare rirovira kaureoparoveira.'),\n",
        "   ('xp', 'Ol i pasim nek bilong man long rop bikos em i save bikhet tumas.'),\n",
        "   ('xe',\n",
        "    \"They strangled the man's neck with rope because he was very stubborn and arrogant.\"),\n",
        "   ('ex',\n",
        "    'Oirato okoearo kaaivoi iroiro-ia. Uva viapau uvuiparoi ra vovouparo uva kopiiroi.'),\n",
        "   ('xp',\n",
        "    'Ol i pasim nek bilong man long rop. Olsem na em i no pulim win olsem na em i dai.'),\n",
        "   ('xe',\n",
        "    \"They strangled the man's neck with a rope. And he couldn't breathe and he died.\")]),\n",
        " ('kaa',\n",
        "  [('ps', 'N'),\n",
        "   ('pt', 'MASC'),\n",
        "   ('cl', 'isi'),\n",
        "   ('ge', 'cooking banana'),\n",
        "   ('tkp', 'banana bilong kukim'),\n",
        "   ('pt', 'itoo'),\n",
        "   ('sf', 'FLORA'),\n",
        "   ('dt', '12/Aug/2005'),\n",
        "   ('ex', 'Taeavi iria kaa isi kovopaueva kaparapasia.'),\n",
        "   ('xp', 'Taeavi i bin planim gaden banana bilong kukim tasol long paia.'),\n",
        "   ('xe', 'Taeavi planted banana in order to cook it.')]),\n",
        " ('kaakaaro',\n",
        "  [('ps', 'N'),\n",
        "   ('pt', 'NT'),\n",
        "   ('ge', 'mixture'),\n",
        "   ('tkp', '???'),\n",
        "   ('eng', 'mixtures'),\n",
        "   ('eng', 'charm used to keep married men and women youthful and attractive'),\n",
        "   ('cmt',\n",
        "    'Check vowel length. Is it kaakaaro or kaakaro? Does lexeme have suffix, -aro or -ro?'),\n",
        "   ('dt', '20/Nov/2006'),\n",
        "   ('ex',\n",
        "    'Kaakaroto ira purapaiveira aue iava opita, voeao-pa airepa oraouirara, ra va aiopaive.'),\n",
        "   ('xp',\n",
        "    'Kokonas ol i save wokim long ol kain samting bilong ol nupela marit, bai ol i ken kaikai.'),\n",
        "   ('xe', 'Mixtures are made from coconut for newlyweds, who eat them.')]),\n",
        " ('kaakaaviko',\n",
        "  [('ps', 'N'),\n",
        "   ('pt', 'FEM'),\n",
        "   ('ge', 'type of beetle'),\n",
        "   ('tkp', '???'),\n",
        "   ('nt', 'round beetle like Mexican bean beetle'),\n",
        "   ('dt', '10/Feb/2005'),\n",
        "   ('sf', 'FAUNA.INSECT'),\n",
        "   ('ex', 'Kaakaaviko kare oea binara touaveira vara tapo piupaiveira.'),\n",
        "   ('xp',\n",
        "    'Kaakaaviko em i wanpela kain insect em i save istap long ol bin or na long kain lip.'),\n",
        "   ('xe', '???'),\n",
        "   ('ex', 'Kaakaaviko kare oea raviriro kouro piupaiveira.'),\n",
        "   ('xp', 'Em i wanpela kain weevil i save bagarapim ol bin.'),\n",
        "   ('xe', '??? damages up beans.')]),\n",
        " ('kaakaavo',\n",
        "  [('rt', 'kaavo'),\n",
        "   ('ps', '???'),\n",
        "   ('rdp', 'partial'),\n",
        "   ('ge', 'white'),\n",
        "   ('tkp', 'wait'),\n",
        "   ('sc', '???'),\n",
        "   ('cmt', \"What's the part of speech?\"),\n",
        "   ('dt', '29/Oct/2005'),\n",
        "   ('ex',\n",
        "    'Kaakaaro oa purapaiveira varauraro tokipasia aue iava opita ora vegoara iava oirara iava ora riakova kaakaaro.'),\n",
        "   ('xp',\n",
        "    'Ol i save wokim out long kokonas coconut na ol lip na skin blong ol diwai.'),\n",
        "   ('xe', '???'),\n",
        "   ('ex', 'Varoa kaakaavopa popotepa ragai varo.'),\n",
        "   ('xp', 'Em white lap lap blong mi.'),\n",
        "   ('xe', \"That's my white laplap.\"),\n",
        "   ('ex', 'Vaoia evaova kaakaavopaova.'),\n",
        "   ('xp', 'Dispela diwai em i waitpela.'),\n",
        "   ('xe', 'This tree is white.'),\n",
        "   ('ex',\n",
        "    'Rarasoria kaakaavoto ira Amerika iava urioroera vo kovosia rupairara voaro.'),\n",
        "   ('xp',\n",
        "    'Rarason em i wait man em i bin kam long Amerika na kam wok long hap bilong ol bilak man.'),\n",
        "   ('xe', 'Rarason is a white man who came from America ???.')]),\n",
        " ('kaakaoko',\n",
        "  [('ps', 'N'),\n",
        "   ('pt', '???'),\n",
        "   ('ge', 'type of beetle'),\n",
        "   ('tkp', 'binatang'),\n",
        "   ('sf', 'FAUNA.INSECT'),\n",
        "   ('cmt', 'Is it kaakaoko or kaakauko?'),\n",
        "   ('dt', '08/Feb/2005'),\n",
        "   ('ex', 'Kaakaoko vuri gesito./Kaakauko vurisi gesiva.'),\n",
        "   ('xp', '???'),\n",
        "   ('xe', 'Kaakauko em i wanpela binatang.')]),\n",
        " ('kaakasi',\n",
        "  [('rt', '???'),\n",
        "   ('ps', 'V'),\n",
        "   ('pt', 'A'),\n",
        "   ('ge', 'hot'),\n",
        "   ('tkp', 'hot'),\n",
        "   ('vx', '1'),\n",
        "   ('sc', '???'),\n",
        "   ('cmt',\n",
        "    \"Vowel length can't possibly be right. Or is the vowel of kaasi long?\"),\n",
        "   ('dt', '29/Oct/2005'),\n",
        "   ('ex', 'Upiriko pitoka kaakasipai.'),\n",
        "   ('xp', 'Sospen kaukau em i hot tru.'),\n",
        "   ('xe', 'The saucepan of sweet potatos is really hot.'),\n",
        "   ('ex',\n",
        "    'Kaukau pitoka rirovira rutu kaakasipai uvare riro kasia tuitui kasi oripiro.'),\n",
        "   ('xp', 'Sospen kaukau em i hot tru bikos em i tan long bikpela paia.'),\n",
        "   ('xe', '???')]),\n",
        " ('kaakau',\n",
        "  [('ps', 'N'),\n",
        "   ('pt', 'FEM'),\n",
        "   ('ge', 'dog'),\n",
        "   ('tkp', 'dok'),\n",
        "   ('dt', '17/Jul/2005'),\n",
        "   ('ex', 'Kaakau voresiurava toupa aue kokoto ora kokopi.'),\n",
        "   ('xp', 'Dog i gat fopela lek bilong em na em i teleblonge.'),\n",
        "   ('xe', 'Dogs are four-footed ???.'),\n",
        "   ('ex', 'Revisa riro kaakau raguito.'),\n",
        "   ('xp', 'Revisa em i man bilong lukautim dok.'),\n",
        "   ('xe', 'Revisa is a big dog lover.'),\n",
        "   ('ex', 'Rake ora Jon kaakau kare ousia avasie.'),\n",
        "   ('xp', 'Rake wantaim Jon ol i go kisim ol wail dok.'),\n",
        "   ('xe', 'Rake and John went to get wild dogs.')]),\n",
        " ('kaakauko',\n",
        "  [('ps', 'N'),\n",
        "   ('pt', 'MASC'),\n",
        "   ('ge', 'gray weevil'),\n",
        "   ('tkp', 'wanpela kain binatang'),\n",
        "   ('sf', 'FAUNA.INSECT'),\n",
        "   ('nt', 'pictured on PNG postage stamp'),\n",
        "   ('dt', '29/Oct/2005'),\n",
        "   ('ex', 'Kaakauko ira toupareveira aue-ia niugini stemp.'),\n",
        "   ('xp', 'Kaakauko em insect em i istap long niugini.'),\n",
        "   ('xe', 'The gray weevil is found on the PNG stamp.'),\n",
        "   ('ex', 'Kaakauko iria toupaeveira niugini stamia.'),\n",
        "   ('xp', 'Weevil i stap long niguini stamp.'),\n",
        "   ('xe', 'The gray weevil is on the New Guinea stamp.'),\n",
        "   ('ex',\n",
        "   ...]"
      ]
    },
    {
      "cell_type": "markdown",
      "metadata": {},
      "source": [
        "## 5   WordNet\n",
        "### WordNet是基於英文辭典但結構更加豐富，NLTK 包含英文的WordNet，擁有155287個words且有117659個相關同義詞。"
      ]
    },
    {
      "cell_type": "markdown",
      "metadata": {},
      "source": [
        "## 5.1   Senses and Synonyms"
      ]
    },
    {
      "cell_type": "code",
      "execution_count": 105,
      "metadata": {},
      "outputs": [
        {
          "data": {
            "text/plain": [
              "[Synset('car.n.01')]"
            ]
          },
          "execution_count": 105,
          "metadata": {},
          "output_type": "execute_result"
        }
      ],
      "source": [
        "from nltk.corpus import wordnet as wn\n",
        "wn.synsets('motorcar')"
      ]
    },
    {
      "cell_type": "markdown",
      "metadata": {},
      "source": [
        "a.  Benz is credited with the invention of the motorcar.\n",
        "\n",
        "b.  Benz is credited with the invention of the automobile.\n",
        "\n",
        "#### (a)mototcar與(b)automobile替換並不影響句子的意思\n"
      ]
    },
    {
      "cell_type": "markdown",
      "metadata": {},
      "source": [
        "### 根據motorcar所對應出的同意詞集 'car.n.01' 稱為 car 的 synset (synonym set)。\n",
        "#### ( 這些synset的集合稱為 lemmas )"
      ]
    },
    {
      "cell_type": "code",
      "execution_count": 106,
      "metadata": {},
      "outputs": [
        {
          "data": {
            "text/plain": [
              "['car', 'auto', 'automobile', 'machine', 'motorcar']"
            ]
          },
          "execution_count": 106,
          "metadata": {},
          "output_type": "execute_result"
        }
      ],
      "source": [
        "wn.synset('car.n.01').lemma_names()"
      ]
    },
    {
      "cell_type": "markdown",
      "metadata": {},
      "source": [
        "### 說明car的定義及例子:"
      ]
    },
    {
      "cell_type": "code",
      "execution_count": 107,
      "metadata": {},
      "outputs": [
        {
          "data": {
            "text/plain": [
              "'a motor vehicle with four wheels; usually propelled by an internal combustion engine'"
            ]
          },
          "execution_count": 107,
          "metadata": {},
          "output_type": "execute_result"
        }
      ],
      "source": [
        "wn.synset('car.n.01').definition()"
      ]
    },
    {
      "cell_type": "code",
      "execution_count": 108,
      "metadata": {},
      "outputs": [
        {
          "data": {
            "text/plain": [
              "['he needs a car to get to work']"
            ]
          },
          "execution_count": 108,
          "metadata": {},
          "output_type": "execute_result"
        }
      ],
      "source": [
        "wn.synset('car.n.01').examples()"
      ]
    },
    {
      "cell_type": "markdown",
      "metadata": {},
      "source": [
        "### 我們能透過 synset 來得知常用的幾個 lemmas"
      ]
    },
    {
      "cell_type": "code",
      "execution_count": 110,
      "metadata": {},
      "outputs": [
        {
          "data": {
            "text/plain": [
              "[Lemma('car.n.01.car'),\n",
              " Lemma('car.n.01.auto'),\n",
              " Lemma('car.n.01.automobile'),\n",
              " Lemma('car.n.01.machine'),\n",
              " Lemma('car.n.01.motorcar')]"
            ]
          },
          "execution_count": 110,
          "metadata": {},
          "output_type": "execute_result"
        }
      ],
      "source": [
        "wn.synset('car.n.01').lemmas()"
      ]
    },
    {
      "cell_type": "markdown",
      "metadata": {},
      "source": [
        "### 查詢特定的lemma"
      ]
    },
    {
      "cell_type": "code",
      "execution_count": 112,
      "metadata": {},
      "outputs": [
        {
          "data": {
            "text/plain": [
              "Lemma('car.n.01.automobile')"
            ]
          },
          "execution_count": 112,
          "metadata": {},
          "output_type": "execute_result"
        }
      ],
      "source": [
        "wn.lemma('car.n.01.automobile')"
      ]
    },
    {
      "cell_type": "markdown",
      "metadata": {},
      "source": [
        "### 根據特定的lemma查詢歸屬哪個synset"
      ]
    },
    {
      "cell_type": "code",
      "execution_count": 113,
      "metadata": {},
      "outputs": [
        {
          "data": {
            "text/plain": [
              "Synset('car.n.01')"
            ]
          },
          "execution_count": 113,
          "metadata": {},
          "output_type": "execute_result"
        }
      ],
      "source": [
        "wn.lemma('car.n.01.automobile').synset()"
      ]
    },
    {
      "cell_type": "markdown",
      "metadata": {},
      "source": [
        "### 取得lemma name"
      ]
    },
    {
      "cell_type": "code",
      "execution_count": 114,
      "metadata": {},
      "outputs": [
        {
          "data": {
            "text/plain": [
              "'automobile'"
            ]
          },
          "execution_count": 114,
          "metadata": {},
          "output_type": "execute_result"
        }
      ],
      "source": [
        "wn.lemma('car.n.01.automobile').name()"
      ]
    },
    {
      "cell_type": "markdown",
      "metadata": {},
      "source": [
        "### car 這個詞不單單只能用來表示車輛，這邊定義幾個比較模糊的用法及能代表的意思。"
      ]
    },
    {
      "cell_type": "code",
      "execution_count": 115,
      "metadata": {},
      "outputs": [
        {
          "data": {
            "text/plain": [
              "[Synset('car.n.01'),\n",
              " Synset('car.n.02'),\n",
              " Synset('car.n.03'),\n",
              " Synset('car.n.04'),\n",
              " Synset('cable_car.n.01')]"
            ]
          },
          "execution_count": 115,
          "metadata": {},
          "output_type": "execute_result"
        }
      ],
      "source": [
        "wn.synsets('car')"
      ]
    },
    {
      "cell_type": "code",
      "execution_count": 116,
      "metadata": {},
      "outputs": [
        {
          "name": "stdout",
          "output_type": "stream",
          "text": [
            "['car', 'auto', 'automobile', 'machine', 'motorcar']\n",
            "['car', 'railcar', 'railway_car', 'railroad_car']\n",
            "['car', 'gondola']\n",
            "['car', 'elevator_car']\n",
            "['cable_car', 'car']\n"
          ]
        }
      ],
      "source": [
        "for synset in wn.synsets('car'):\n",
        "    print(synset.lemma_names())"
      ]
    },
    {
      "cell_type": "markdown",
      "metadata": {},
      "source": [
        "### 為了方便起見我們也可以列出所有關於汽車的lemmas"
      ]
    },
    {
      "cell_type": "code",
      "execution_count": 119,
      "metadata": {},
      "outputs": [
        {
          "data": {
            "text/plain": [
              "[Lemma('car.n.01.car'),\n",
              " Lemma('car.n.02.car'),\n",
              " Lemma('car.n.03.car'),\n",
              " Lemma('car.n.04.car'),\n",
              " Lemma('cable_car.n.01.car')]"
            ]
          },
          "execution_count": 119,
          "metadata": {},
          "output_type": "execute_result"
        }
      ],
      "source": [
        "wn.lemmas('car')"
      ]
    },
    {
      "cell_type": "markdown",
      "metadata": {},
      "source": [
        "## 5.2   The WordNet Hierarchy\n",
        "\n",
        "![WordNet_Hierarchy.jpg](https://i.imgur.com/gQuZBLg.jpg)"
      ]
    },
    {
      "cell_type": "markdown",
      "metadata": {},
      "source": [
        "### WordNet 可以輕易的了解詞的概念"
      ]
    },
    {
      "cell_type": "code",
      "execution_count": 123,
      "metadata": {},
      "outputs": [
        {
          "data": {
            "text/plain": [
              "Synset('ambulance.n.01')"
            ]
          },
          "execution_count": 123,
          "metadata": {},
          "output_type": "execute_result"
        }
      ],
      "source": [
        "motorcar = wn.synset('car.n.01')\n",
        "types_of_motorcar = motorcar.hyponyms()\n",
        "types_of_motorcar[0]"
      ]
    },
    {
      "cell_type": "code",
      "execution_count": 121,
      "metadata": {},
      "outputs": [
        {
          "data": {
            "text/plain": [
              "['Model_T',\n",
              " 'S.U.V.',\n",
              " 'SUV',\n",
              " 'Stanley_Steamer',\n",
              " 'ambulance',\n",
              " 'beach_waggon',\n",
              " 'beach_wagon',\n",
              " 'bus',\n",
              " 'cab',\n",
              " 'compact',\n",
              " 'compact_car',\n",
              " 'convertible',\n",
              " 'coupe',\n",
              " 'cruiser',\n",
              " 'electric',\n",
              " 'electric_automobile',\n",
              " 'electric_car',\n",
              " 'estate_car',\n",
              " 'gas_guzzler',\n",
              " 'hack',\n",
              " 'hardtop',\n",
              " 'hatchback',\n",
              " 'heap',\n",
              " 'horseless_carriage',\n",
              " 'hot-rod',\n",
              " 'hot_rod',\n",
              " 'jalopy',\n",
              " 'jeep',\n",
              " 'landrover',\n",
              " 'limo',\n",
              " 'limousine',\n",
              " 'loaner',\n",
              " 'minicar',\n",
              " 'minivan',\n",
              " 'pace_car',\n",
              " 'patrol_car',\n",
              " 'phaeton',\n",
              " 'police_car',\n",
              " 'police_cruiser',\n",
              " 'prowl_car',\n",
              " 'race_car',\n",
              " 'racer',\n",
              " 'racing_car',\n",
              " 'roadster',\n",
              " 'runabout',\n",
              " 'saloon',\n",
              " 'secondhand_car',\n",
              " 'sedan',\n",
              " 'sport_car',\n",
              " 'sport_utility',\n",
              " 'sport_utility_vehicle',\n",
              " 'sports_car',\n",
              " 'squad_car',\n",
              " 'station_waggon',\n",
              " 'station_wagon',\n",
              " 'stock_car',\n",
              " 'subcompact',\n",
              " 'subcompact_car',\n",
              " 'taxi',\n",
              " 'taxicab',\n",
              " 'tourer',\n",
              " 'touring_car',\n",
              " 'two-seater',\n",
              " 'used-car',\n",
              " 'waggon',\n",
              " 'wagon']"
            ]
          },
          "execution_count": 121,
          "metadata": {},
          "output_type": "execute_result"
        }
      ],
      "source": [
        "sorted(lemma.name() for synset in types_of_motorcar for lemma in synset.lemmas())"
      ]
    },
    {
      "cell_type": "markdown",
      "metadata": {},
      "source": [
        "### 有些words有多個路徑，因為它可以用多種方式來分類"
      ]
    },
    {
      "cell_type": "code",
      "execution_count": 124,
      "metadata": {},
      "outputs": [
        {
          "data": {
            "text/plain": [
              "[Synset('motor_vehicle.n.01')]"
            ]
          },
          "execution_count": 124,
          "metadata": {},
          "output_type": "execute_result"
        }
      ],
      "source": [
        "motorcar.hypernyms()"
      ]
    },
    {
      "cell_type": "code",
      "execution_count": 125,
      "metadata": {},
      "outputs": [
        {
          "data": {
            "text/plain": [
              "2"
            ]
          },
          "execution_count": 125,
          "metadata": {},
          "output_type": "execute_result"
        }
      ],
      "source": [
        "paths = motorcar.hypernym_paths()\n",
        "len(paths)"
      ]
    },
    {
      "cell_type": "code",
      "execution_count": 126,
      "metadata": {},
      "outputs": [
        {
          "data": {
            "text/plain": [
              "['entity.n.01',\n",
              " 'physical_entity.n.01',\n",
              " 'object.n.01',\n",
              " 'whole.n.02',\n",
              " 'artifact.n.01',\n",
              " 'instrumentality.n.03',\n",
              " 'container.n.01',\n",
              " 'wheeled_vehicle.n.01',\n",
              " 'self-propelled_vehicle.n.01',\n",
              " 'motor_vehicle.n.01',\n",
              " 'car.n.01']"
            ]
          },
          "execution_count": 126,
          "metadata": {},
          "output_type": "execute_result"
        }
      ],
      "source": [
        "[synset.name() for synset in paths[0]]"
      ]
    },
    {
      "cell_type": "code",
      "execution_count": 127,
      "metadata": {},
      "outputs": [
        {
          "data": {
            "text/plain": [
              "['entity.n.01',\n",
              " 'physical_entity.n.01',\n",
              " 'object.n.01',\n",
              " 'whole.n.02',\n",
              " 'artifact.n.01',\n",
              " 'instrumentality.n.03',\n",
              " 'conveyance.n.03',\n",
              " 'vehicle.n.01',\n",
              " 'wheeled_vehicle.n.01',\n",
              " 'self-propelled_vehicle.n.01',\n",
              " 'motor_vehicle.n.01',\n",
              " 'car.n.01']"
            ]
          },
          "execution_count": 127,
          "metadata": {},
          "output_type": "execute_result"
        }
      ],
      "source": [
        "[synset.name() for synset in paths[1]]"
      ]
    },
    {
      "cell_type": "markdown",
      "metadata": {},
      "source": [
        "### 我們也可以找出 synset 最通用的 hypernyms"
      ]
    },
    {
      "cell_type": "code",
      "execution_count": 128,
      "metadata": {},
      "outputs": [
        {
          "data": {
            "text/plain": [
              "[Synset('entity.n.01')]"
            ]
          },
          "execution_count": 128,
          "metadata": {},
          "output_type": "execute_result"
        }
      ],
      "source": [
        "motorcar.root_hypernyms()"
      ]
    },
    {
      "cell_type": "markdown",
      "metadata": {},
      "source": [
        "## 5.3   More Lexical Relations"
      ]
    },
    {
      "cell_type": "markdown",
      "metadata": {},
      "source": [
        "### 由細節關聯出更廣義的關係"
      ]
    },
    {
      "cell_type": "code",
      "execution_count": 130,
      "metadata": {},
      "outputs": [
        {
          "data": {
            "text/plain": [
              "[Synset('burl.n.02'),\n",
              " Synset('crown.n.07'),\n",
              " Synset('limb.n.02'),\n",
              " Synset('stump.n.01'),\n",
              " Synset('trunk.n.01')]"
            ]
          },
          "execution_count": 130,
          "metadata": {},
          "output_type": "execute_result"
        }
      ],
      "source": [
        "wn.synset('tree.n.01').part_meronyms()"
      ]
    },
    {
      "cell_type": "code",
      "execution_count": 131,
      "metadata": {},
      "outputs": [
        {
          "data": {
            "text/plain": [
              "[Synset('heartwood.n.01'), Synset('sapwood.n.01')]"
            ]
          },
          "execution_count": 131,
          "metadata": {},
          "output_type": "execute_result"
        }
      ],
      "source": [
        "wn.synset('tree.n.01').substance_meronyms()"
      ]
    },
    {
      "cell_type": "code",
      "execution_count": 132,
      "metadata": {},
      "outputs": [
        {
          "data": {
            "text/plain": [
              "[Synset('forest.n.01')]"
            ]
          },
          "execution_count": 132,
          "metadata": {},
          "output_type": "execute_result"
        }
      ],
      "source": [
        "wn.synset('tree.n.01').member_holonyms()"
      ]
    },
    {
      "cell_type": "markdown",
      "metadata": {},
      "source": [
        "### 以\"mint\"為例，可以發現mint.n.04是mint.n.02的一部分且製造出mint.n.05。"
      ]
    },
    {
      "cell_type": "code",
      "execution_count": 133,
      "metadata": {},
      "outputs": [
        {
          "name": "stdout",
          "output_type": "stream",
          "text": [
            "batch.n.02: (often followed by `of') a large number or amount or extent\n",
            "mint.n.02: any north temperate plant of the genus Mentha with aromatic leaves and small mauve flowers\n",
            "mint.n.03: any member of the mint family of plants\n",
            "mint.n.04: the leaves of a mint plant used fresh or candied\n",
            "mint.n.05: a candy that is flavored with a mint oil\n",
            "mint.n.06: a plant where money is coined by authority of the government\n"
          ]
        }
      ],
      "source": [
        "for synset in wn.synsets('mint', wn.NOUN):\n",
        "    print(synset.name() + ':', synset.definition())"
      ]
    },
    {
      "cell_type": "code",
      "execution_count": 134,
      "metadata": {},
      "outputs": [
        {
          "data": {
            "text/plain": [
              "[Synset('mint.n.02')]"
            ]
          },
          "execution_count": 134,
          "metadata": {},
          "output_type": "execute_result"
        }
      ],
      "source": [
        "wn.synset('mint.n.04').part_holonyms()"
      ]
    },
    {
      "cell_type": "code",
      "execution_count": 135,
      "metadata": {},
      "outputs": [
        {
          "data": {
            "text/plain": [
              "[Synset('mint.n.05')]"
            ]
          },
          "execution_count": 135,
          "metadata": {},
          "output_type": "execute_result"
        }
      ],
      "source": [
        "wn.synset('mint.n.04').substance_holonyms()"
      ]
    },
    {
      "cell_type": "markdown",
      "metadata": {},
      "source": [
        "### 動詞間也有互相的類似關係"
      ]
    },
    {
      "cell_type": "code",
      "execution_count": 136,
      "metadata": {},
      "outputs": [
        {
          "data": {
            "text/plain": [
              "[Synset('step.v.01')]"
            ]
          },
          "execution_count": 136,
          "metadata": {},
          "output_type": "execute_result"
        }
      ],
      "source": [
        "wn.synset('walk.v.01').entailments()"
      ]
    },
    {
      "cell_type": "code",
      "execution_count": 137,
      "metadata": {},
      "outputs": [
        {
          "data": {
            "text/plain": [
              "[Synset('chew.v.01'), Synset('swallow.v.01')]"
            ]
          },
          "execution_count": 137,
          "metadata": {},
          "output_type": "execute_result"
        }
      ],
      "source": [
        "wn.synset('eat.v.01').entailments()"
      ]
    },
    {
      "cell_type": "code",
      "execution_count": 138,
      "metadata": {},
      "outputs": [
        {
          "data": {
            "text/plain": [
              "[Synset('arouse.v.07'), Synset('disappoint.v.01')]"
            ]
          },
          "execution_count": 138,
          "metadata": {},
          "output_type": "execute_result"
        }
      ],
      "source": [
        "wn.synset('tease.v.03').entailments()"
      ]
    },
    {
      "cell_type": "markdown",
      "metadata": {},
      "source": [
        "### 反義詞"
      ]
    },
    {
      "cell_type": "code",
      "execution_count": 139,
      "metadata": {},
      "outputs": [
        {
          "data": {
            "text/plain": [
              "[Lemma('demand.n.02.demand')]"
            ]
          },
          "execution_count": 139,
          "metadata": {},
          "output_type": "execute_result"
        }
      ],
      "source": [
        "wn.lemma('supply.n.02.supply').antonyms()"
      ]
    },
    {
      "cell_type": "code",
      "execution_count": 140,
      "metadata": {},
      "outputs": [
        {
          "data": {
            "text/plain": [
              "[Lemma('linger.v.04.linger')]"
            ]
          },
          "execution_count": 140,
          "metadata": {},
          "output_type": "execute_result"
        }
      ],
      "source": [
        "wn.lemma('rush.v.01.rush').antonyms()"
      ]
    },
    {
      "cell_type": "code",
      "execution_count": 141,
      "metadata": {},
      "outputs": [
        {
          "data": {
            "text/plain": [
              "[Lemma('inclined.a.02.inclined'), Lemma('vertical.a.01.vertical')]"
            ]
          },
          "execution_count": 141,
          "metadata": {},
          "output_type": "execute_result"
        }
      ],
      "source": [
        "wn.lemma('horizontal.a.01.horizontal').antonyms()"
      ]
    },
    {
      "cell_type": "code",
      "execution_count": 142,
      "metadata": {},
      "outputs": [
        {
          "data": {
            "text/plain": [
              "[Lemma('legato.r.01.legato')]"
            ]
          },
          "execution_count": 142,
          "metadata": {},
          "output_type": "execute_result"
        }
      ],
      "source": [
        "wn.lemma('staccato.r.01.staccato').antonyms()"
      ]
    },
    {
      "cell_type": "markdown",
      "metadata": {},
      "source": [
        "### 透過dir() 可以查看詞彙的關係以及其他在synset上定義的方法"
      ]
    },
    {
      "cell_type": "code",
      "execution_count": 147,
      "metadata": {},
      "outputs": [
        {
          "data": {
            "text/plain": [
              "['__class__',\n",
              " '__delattr__',\n",
              " '__dict__',\n",
              " '__dir__',\n",
              " '__doc__',\n",
              " '__eq__',\n",
              " '__format__',\n",
              " '__ge__',\n",
              " '__getattribute__',\n",
              " '__gt__',\n",
              " '__hash__',\n",
              " '__init__',\n",
              " '__le__',\n",
              " '__lt__',\n",
              " '__module__',\n",
              " '__ne__',\n",
              " '__new__',\n",
              " '__reduce__',\n",
              " '__reduce_ex__',\n",
              " '__repr__',\n",
              " '__setattr__',\n",
              " '__sizeof__',\n",
              " '__slots__',\n",
              " '__str__',\n",
              " '__subclasshook__',\n",
              " '__unicode__',\n",
              " '__weakref__',\n",
              " '_all_hypernyms',\n",
              " '_definition',\n",
              " '_examples',\n",
              " '_frame_ids',\n",
              " '_hypernyms',\n",
              " '_instance_hypernyms',\n",
              " '_iter_hypernym_lists',\n",
              " '_lemma_names',\n",
              " '_lemma_pointers',\n",
              " '_lemmas',\n",
              " '_lexname',\n",
              " '_max_depth',\n",
              " '_min_depth',\n",
              " '_name',\n",
              " '_needs_root',\n",
              " '_offset',\n",
              " '_pointers',\n",
              " '_pos',\n",
              " '_related',\n",
              " '_shortest_hypernym_paths',\n",
              " '_wordnet_corpus_reader',\n",
              " 'also_sees',\n",
              " 'attributes',\n",
              " 'causes',\n",
              " 'closure',\n",
              " 'common_hypernyms',\n",
              " 'definition',\n",
              " 'entailments',\n",
              " 'examples',\n",
              " 'frame_ids',\n",
              " 'hypernym_distances',\n",
              " 'hypernym_paths',\n",
              " 'hypernyms',\n",
              " 'hyponyms',\n",
              " 'instance_hypernyms',\n",
              " 'instance_hyponyms',\n",
              " 'jcn_similarity',\n",
              " 'lch_similarity',\n",
              " 'lemma_names',\n",
              " 'lemmas',\n",
              " 'lexname',\n",
              " 'lin_similarity',\n",
              " 'lowest_common_hypernyms',\n",
              " 'max_depth',\n",
              " 'member_holonyms',\n",
              " 'member_meronyms',\n",
              " 'min_depth',\n",
              " 'name',\n",
              " 'offset',\n",
              " 'part_holonyms',\n",
              " 'part_meronyms',\n",
              " 'path_similarity',\n",
              " 'pos',\n",
              " 'region_domains',\n",
              " 'res_similarity',\n",
              " 'root_hypernyms',\n",
              " 'shortest_path_distance',\n",
              " 'similar_tos',\n",
              " 'substance_holonyms',\n",
              " 'substance_meronyms',\n",
              " 'topic_domains',\n",
              " 'tree',\n",
              " 'unicode_repr',\n",
              " 'usage_domains',\n",
              " 'verb_groups',\n",
              " 'wup_similarity']"
            ]
          },
          "execution_count": 147,
          "metadata": {},
          "output_type": "execute_result"
        }
      ],
      "source": [
        "dir(wn.synset('harmony.n.02'))"
      ]
    },
    {
      "cell_type": "markdown",
      "metadata": {},
      "source": [
        "## 5.4   Semantic Similarity"
      ]
    },
    {
      "cell_type": "markdown",
      "metadata": {},
      "source": [
        "### 在hypernym 層次結構中最底層的必定是與其關係最密切的。"
      ]
    },
    {
      "cell_type": "code",
      "execution_count": 162,
      "metadata": {},
      "outputs": [],
      "source": [
        "right = wn.synset('right_whale.n.01')\n",
        "orca = wn.synset('orca.n.01')\n",
        "minke = wn.synset('minke_whale.n.01')\n",
        "tortoise = wn.synset('tortoise.n.01')\n",
        "novel = wn.synset('novel.n.01')"
      ]
    },
    {
      "cell_type": "code",
      "execution_count": 163,
      "metadata": {},
      "outputs": [
        {
          "data": {
            "text/plain": [
              "[Synset('baleen_whale.n.01')]"
            ]
          },
          "execution_count": 163,
          "metadata": {},
          "output_type": "execute_result"
        }
      ],
      "source": [
        "right.lowest_common_hypernyms(minke)"
      ]
    },
    {
      "cell_type": "code",
      "execution_count": 164,
      "metadata": {},
      "outputs": [
        {
          "data": {
            "text/plain": [
              "[Synset('whale.n.02')]"
            ]
          },
          "execution_count": 164,
          "metadata": {},
          "output_type": "execute_result"
        }
      ],
      "source": [
        "right.lowest_common_hypernyms(orca)"
      ]
    },
    {
      "cell_type": "code",
      "execution_count": 165,
      "metadata": {},
      "outputs": [
        {
          "data": {
            "text/plain": [
              "[Synset('vertebrate.n.01')]"
            ]
          },
          "execution_count": 165,
          "metadata": {},
          "output_type": "execute_result"
        }
      ],
      "source": [
        "right.lowest_common_hypernyms(tortoise)"
      ]
    },
    {
      "cell_type": "code",
      "execution_count": 166,
      "metadata": {
        "scrolled": true
      },
      "outputs": [
        {
          "data": {
            "text/plain": [
              "[Synset('entity.n.01')]"
            ]
          },
          "execution_count": 166,
          "metadata": {},
          "output_type": "execute_result"
        }
      ],
      "source": [
        "right.lowest_common_hypernyms(novel)"
      ]
    },
    {
      "cell_type": "markdown",
      "metadata": {},
      "source": [
        "### 我們能透過每個同義詞的深度來量化這個概念，數字越大則分得越細。"
      ]
    },
    {
      "cell_type": "code",
      "execution_count": 167,
      "metadata": {},
      "outputs": [
        {
          "data": {
            "text/plain": [
              "14"
            ]
          },
          "execution_count": 167,
          "metadata": {},
          "output_type": "execute_result"
        }
      ],
      "source": [
        "wn.synset('baleen_whale.n.01').min_depth()"
      ]
    },
    {
      "cell_type": "code",
      "execution_count": 168,
      "metadata": {},
      "outputs": [
        {
          "data": {
            "text/plain": [
              "13"
            ]
          },
          "execution_count": 168,
          "metadata": {},
          "output_type": "execute_result"
        }
      ],
      "source": [
        "wn.synset('whale.n.02').min_depth()"
      ]
    },
    {
      "cell_type": "code",
      "execution_count": 169,
      "metadata": {},
      "outputs": [
        {
          "data": {
            "text/plain": [
              "8"
            ]
          },
          "execution_count": 169,
          "metadata": {},
          "output_type": "execute_result"
        }
      ],
      "source": [
        "wn.synset('vertebrate.n.01').min_depth()"
      ]
    },
    {
      "cell_type": "code",
      "execution_count": 170,
      "metadata": {},
      "outputs": [
        {
          "data": {
            "text/plain": [
              "0"
            ]
          },
          "execution_count": 170,
          "metadata": {},
          "output_type": "execute_result"
        }
      ],
      "source": [
        "wn.synset('entity.n.01').min_depth()"
      ]
    },
    {
      "cell_type": "markdown",
      "metadata": {},
      "source": [
        "### path_similarity() 透過路徑的比較可以計算出兩者間的相似程度(range 0 - 1)。"
      ]
    },
    {
      "cell_type": "code",
      "execution_count": 172,
      "metadata": {},
      "outputs": [
        {
          "data": {
            "text/plain": [
              "0.25"
            ]
          },
          "execution_count": 172,
          "metadata": {},
          "output_type": "execute_result"
        }
      ],
      "source": [
        "right.path_similarity(minke)"
      ]
    },
    {
      "cell_type": "code",
      "execution_count": 173,
      "metadata": {},
      "outputs": [
        {
          "data": {
            "text/plain": [
              "0.16666666666666666"
            ]
          },
          "execution_count": 173,
          "metadata": {},
          "output_type": "execute_result"
        }
      ],
      "source": [
        "right.path_similarity(orca)"
      ]
    },
    {
      "cell_type": "code",
      "execution_count": 174,
      "metadata": {},
      "outputs": [
        {
          "data": {
            "text/plain": [
              "0.07692307692307693"
            ]
          },
          "execution_count": 174,
          "metadata": {},
          "output_type": "execute_result"
        }
      ],
      "source": [
        "right.path_similarity(tortoise)"
      ]
    },
    {
      "cell_type": "code",
      "execution_count": 175,
      "metadata": {},
      "outputs": [
        {
          "data": {
            "text/plain": [
              "0.043478260869565216"
            ]
          },
          "execution_count": 175,
          "metadata": {},
          "output_type": "execute_result"
        }
      ],
      "source": [
        "right.path_similarity(novel)"
      ]
    },
    {
      "cell_type": "markdown",
      "metadata": {},
      "source": [
        "#### 可以輸入help(wn)來了解更多用法，NLTK除了有WordNet之外也有VerbNet這個動詞的詞庫，請透過nltk.corpus.verbnet來使用。"
      ]
    }
  ],
  "metadata": {
    "kernelspec": {
      "display_name": "Python 3",
      "language": "python",
      "name": "python3"
    },
    "language_info": {
      "codemirror_mode": {
        "name": "ipython",
        "version": 3
      },
      "file_extension": ".py",
      "mimetype": "text/x-python",
      "name": "python",
      "nbconvert_exporter": "python",
      "pygments_lexer": "ipython3",
      "version": "3.6.2"
    }
  },
  "nbformat": 4,
  "nbformat_minor": 2
}